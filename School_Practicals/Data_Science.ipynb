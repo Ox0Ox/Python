{
 "cells": [
  {
   "cell_type": "code",
   "execution_count": 2,
   "id": "f1551913",
   "metadata": {},
   "outputs": [
    {
     "name": "stdout",
     "output_type": "stream",
     "text": [
      "         date  mean_temperature  max_temperature  min_temperature  \\\n",
      "0  2016-05-04                34               41               27   \n",
      "1  2016-05-05                31               38               24   \n",
      "2  2016-05-06                28               34               21   \n",
      "3  2016-05-07                30               38               23   \n",
      "4  2016-05-08                34               41               26   \n",
      "\n",
      "   Mean_dew_pt  mean_pressure  max_humidity  min_humidity  max_dew_pt_1  \\\n",
      "0            6        1006.00            27             5            12   \n",
      "1            7        1005.65            29             6            13   \n",
      "2           11        1007.94            61            13            16   \n",
      "3           13        1008.39            69            18            17   \n",
      "4           10        1007.62            50             8            14   \n",
      "\n",
      "   max_dew_pt_2  min_dew_pt_1  min_dew_pt_2  max_pressure_1  max_pressure_2  \\\n",
      "0            10            -2            -2            1009            1008   \n",
      "1            12             0            -2            1008            1009   \n",
      "2            13             6             0            1011            1008   \n",
      "3            16             9             6            1011            1011   \n",
      "4            17             6             9            1010            1011   \n",
      "\n",
      "   min_pressure_1  min_pressure_2  rainfall  \n",
      "0            1000            1001       0.0  \n",
      "1            1001            1000       0.0  \n",
      "2            1003            1001       5.0  \n",
      "3            1004            1003       0.0  \n",
      "4            1002            1004       0.0  \n"
     ]
    }
   ],
   "source": [
    "import pandas as pd\n",
    "dataframe = pd.read_csv(\"JaipurFinalCleanData.csv\")\n",
    "print (dataframe.head())"
   ]
  },
  {
   "cell_type": "code",
   "execution_count": 3,
   "id": "babebf20",
   "metadata": {},
   "outputs": [
    {
     "name": "stdout",
     "output_type": "stream",
     "text": [
      "         date  mean_temperature  max_temperature  min_temperature  \\\n",
      "0  2016-05-04                34               41               27   \n",
      "1  2016-05-05                31               38               24   \n",
      "2  2016-05-06                28               34               21   \n",
      "3  2016-05-07                30               38               23   \n",
      "4  2016-05-08                34               41               26   \n",
      "5  2016-05-09                34               42               27   \n",
      "6  2016-05-10                34               41               27   \n",
      "7  2016-05-11                32               40               25   \n",
      "8  2016-05-12                34               42               27   \n",
      "9  2016-05-13                34               42               26   \n",
      "\n",
      "   Mean_dew_pt  mean_pressure  max_humidity  min_humidity  max_dew_pt_1  \\\n",
      "0            6        1006.00            27             5            12   \n",
      "1            7        1005.65            29             6            13   \n",
      "2           11        1007.94            61            13            16   \n",
      "3           13        1008.39            69            18            17   \n",
      "4           10        1007.62            50             8            14   \n",
      "5            8        1006.73            32             7            12   \n",
      "6           11        1005.75            45             7            16   \n",
      "7           16        1007.10            51            12            18   \n",
      "8           16        1006.78            66            16            22   \n",
      "9           13        1003.83            58             9            20   \n",
      "\n",
      "   max_dew_pt_2  min_dew_pt_1  min_dew_pt_2  max_pressure_1  max_pressure_2  \\\n",
      "0            10            -2            -2            1009            1008   \n",
      "1            12             0            -2            1008            1009   \n",
      "2            13             6             0            1011            1008   \n",
      "3            16             9             6            1011            1011   \n",
      "4            17             6             9            1010            1011   \n",
      "5            14             6             6            1010            1010   \n",
      "6            12             7             6            1008            1010   \n",
      "7            16            13             7            1010            1008   \n",
      "8            18            10            13            1011            1010   \n",
      "9            22            10            10            1007            1011   \n",
      "\n",
      "   min_pressure_1  min_pressure_2  rainfall  \n",
      "0            1000            1001       0.0  \n",
      "1            1001            1000       0.0  \n",
      "2            1003            1001       5.0  \n",
      "3            1004            1003       0.0  \n",
      "4            1002            1004       0.0  \n",
      "5            1002            1002       0.0  \n",
      "6            1000            1002       0.3  \n",
      "7            1002            1000       0.8  \n",
      "8            1001            1002       2.0  \n",
      "9             998            1001       0.3  \n"
     ]
    }
   ],
   "source": [
    "print (dataframe.head(10))"
   ]
  },
  {
   "cell_type": "code",
   "execution_count": 4,
   "id": "4a607d0b",
   "metadata": {},
   "outputs": [
    {
     "data": {
      "text/plain": [
       "date                 object\n",
       "mean_temperature      int64\n",
       "max_temperature       int64\n",
       "min_temperature       int64\n",
       "Mean_dew_pt           int64\n",
       "mean_pressure       float64\n",
       "max_humidity          int64\n",
       "min_humidity          int64\n",
       "max_dew_pt_1          int64\n",
       "max_dew_pt_2          int64\n",
       "min_dew_pt_1          int64\n",
       "min_dew_pt_2          int64\n",
       "max_pressure_1        int64\n",
       "max_pressure_2        int64\n",
       "min_pressure_1        int64\n",
       "min_pressure_2        int64\n",
       "rainfall            float64\n",
       "dtype: object"
      ]
     },
     "execution_count": 4,
     "metadata": {},
     "output_type": "execute_result"
    }
   ],
   "source": [
    "dataframe.dtypes"
   ]
  },
  {
   "cell_type": "code",
   "execution_count": 5,
   "id": "4154a92c",
   "metadata": {},
   "outputs": [
    {
     "data": {
      "text/plain": [
       "date                 object\n",
       "mean_temperature      int64\n",
       "max_temperature       int64\n",
       "min_temperature       int64\n",
       "Mean_dew_pt           int64\n",
       "mean_pressure       float64\n",
       "max_humidity          int64\n",
       "min_humidity          int64\n",
       "max_dew_pt_1          int64\n",
       "min_dew_pt_1          int64\n",
       "min_dew_pt_2          int64\n",
       "max_pressure_1        int64\n",
       "max_pressure_2        int64\n",
       "min_pressure_1        int64\n",
       "min_pressure_2        int64\n",
       "rainfall            float64\n",
       "dtype: object"
      ]
     },
     "execution_count": 5,
     "metadata": {},
     "output_type": "execute_result"
    }
   ],
   "source": [
    "dataframe = dataframe.drop([\"max_dew_pt_2\"], axis=1)\n",
    "dataframe.dtypes"
   ]
  },
  {
   "cell_type": "code",
   "execution_count": 6,
   "id": "6a1e0c5d",
   "metadata": {},
   "outputs": [
    {
     "name": "stdout",
     "output_type": "stream",
     "text": [
      "           date  mean_temperature  max_temperature  min_temperature  \\\n",
      "675  2018-03-11                26               34               18   \n",
      "674  2018-03-10                26               34               19   \n",
      "673  2018-03-09                26               33               19   \n",
      "672  2018-03-08                24               32               15   \n",
      "671  2018-03-07                24               32               15   \n",
      "\n",
      "     Mean_dew_pt  mean_pressure  max_humidity  min_humidity  max_dew_pt_1  \\\n",
      "675            4        1013.76            38             6             8   \n",
      "674            3        1014.16            37             8             6   \n",
      "673            1        1014.41            42             7             5   \n",
      "672            2        1014.07            55             5             8   \n",
      "671            4        1015.39            48             6             9   \n",
      "\n",
      "     min_dew_pt_1  min_dew_pt_2  max_pressure_1  max_pressure_2  \\\n",
      "675             0            -1            1017            1017   \n",
      "674            -1            -5            1017            1017   \n",
      "673            -5            -6            1017            1017   \n",
      "672            -6            -3            1017            1018   \n",
      "671            -3             0            1018            1017   \n",
      "\n",
      "     min_pressure_1  min_pressure_2  rainfall  \n",
      "675            1009            1009       0.0  \n",
      "674            1009            1011       0.0  \n",
      "673            1011            1011       0.0  \n",
      "672            1011            1012       0.0  \n",
      "671            1012            1011       0.0  \n"
     ]
    }
   ],
   "source": [
    "jaipur_weather = dataframe.sort_values(by='date',ascending = False)\n",
    "print(jaipur_weather.head(5))"
   ]
  },
  {
   "cell_type": "code",
   "execution_count": 7,
   "id": "23a273ef",
   "metadata": {},
   "outputs": [
    {
     "data": {
      "image/png": "[encoded data removed]",
      "text/plain": [
       "<Figure size 432x288 with 1 Axes>"
      ]
     },
     "metadata": {
      "needs_background": "light"
     },
     "output_type": "display_data"
    }
   ],
   "source": [
    "import matplotlib.pyplot as plt\n",
    "import numpy as np\n",
    "\n",
    "x = dataframe.date\n",
    "y = dataframe.mean_temperature\n",
    "\n",
    "plt.xlabel (\"Date\", fontsize = 24)\n",
    "plt.ylabel (\"Mean Temperature\", fontsize = 24)\n",
    "plt.title('Mean Temperature at Jaipur', fontsize = 30)\n",
    "\n",
    "plt.xticks(np.arange(0, 731, 60))\n",
    "plt.xticks (rotation=30)\n",
    "\n",
    "plt.scatter(x,y)\n",
    "plt.show()"
   ]
  },
  {
   "cell_type": "code",
   "execution_count": 8,
   "id": "5107beff",
   "metadata": {},
   "outputs": [
    {
     "data": {
      "image/png": "[encoded data removed]",
      "text/plain": [
       "<Figure size 432x288 with 1 Axes>"
      ]
     },
     "metadata": {
      "needs_background": "light"
     },
     "output_type": "display_data"
    }
   ],
   "source": [
    "x1 = ['A', 'B', 'C',' D']\n",
    "y1 = [75, 70, 85, 90]\n",
    "\n",
    "plt.xlabel (\"Students\", fontsize = 14)\n",
    "plt.ylabel (\"Marks Scored\", fontsize = 14)\n",
    "plt.title('Marks Scored by students', fontsize = 20)\n",
    "\n",
    "plt.scatter(x1,y1)\n",
    "plt.show()"
   ]
  },
  {
   "cell_type": "code",
   "execution_count": 9,
   "id": "d905cbbc",
   "metadata": {},
   "outputs": [
    {
     "data": {
      "image/png": "[encoded data removed]",
      "text/plain": [
       "<Figure size 432x288 with 1 Axes>"
      ]
     },
     "metadata": {
      "needs_background": "light"
     },
     "output_type": "display_data"
    }
   ],
   "source": [
    "plt.xlabel (\"Students\", fontsize = 14)\n",
    "plt.ylabel (\"Marks Scored\", fontsize = 14)\n",
    "plt.title('Marks Scored by students', fontsize = 20)\n",
    "\n",
    "plt.plot(x1,y1)\n",
    "plt.show()"
   ]
  },
  {
   "cell_type": "code",
   "execution_count": 10,
   "id": "b6a480cc",
   "metadata": {},
   "outputs": [
    {
     "data": {
      "image/png": "[encoded data removed]",
      "text/plain": [
       "<Figure size 432x288 with 1 Axes>"
      ]
     },
     "metadata": {
      "needs_background": "light"
     },
     "output_type": "display_data"
    }
   ],
   "source": [
    "plt.xlabel (\"Students\", fontsize = 14)\n",
    "plt.ylabel (\"Marks Scored\", fontsize = 14)\n",
    "plt.title('Marks Scored by students', fontsize = 20)\n",
    "\n",
    "plt.bar(x1,y1)\n",
    "plt.show()"
   ]
  },
  {
   "cell_type": "code",
   "execution_count": 21,
   "id": "3ea851df",
   "metadata": {},
   "outputs": [
    {
     "name": "stdout",
     "output_type": "stream",
     "text": [
      "12\n",
      "as\n",
      "12o3gl\n",
      "12\n",
      "\n",
      "['12', 'as', '12o3gl', '12']\n",
      "\n",
      "1D Array-\n",
      "['12' 'as' '12o3gl' '12']\n",
      "\n",
      "2D Array-\n",
      "[['12' 'as']\n",
      " ['12o3gl' '12']]\n"
     ]
    }
   ],
   "source": [
    "l = []\n",
    "for i in range(4):\n",
    "    l.append(input())\n",
    "print('')\n",
    "print(l)\n",
    "print('')\n",
    "arr = np.array(l)\n",
    "print('1D Array-')\n",
    "print(arr)\n",
    "print('')\n",
    "arr1 = arr.reshape(2,2)\n",
    "print('2D Array-')\n",
    "print(arr1)"
   ]
  },
  {
   "cell_type": "code",
   "execution_count": 1,
   "id": "5b2a7195",
   "metadata": {},
   "outputs": [
    {
     "name": "stdout",
     "output_type": "stream",
     "text": [
      "This is a calculator to calculate mean.\n",
      "Enter the number of values you want to enter: 5\n",
      "\n",
      "12\n",
      "34\n",
      "66.75\n",
      "12.4\n",
      "12.5\n",
      "The mean of the given data is- \n"
     ]
    },
    {
     "data": {
      "text/plain": [
       "27.53"
      ]
     },
     "execution_count": 1,
     "metadata": {},
     "output_type": "execute_result"
    }
   ],
   "source": [
    "import statistics\n",
    "print('This is a calculator to calculate mean.')\n",
    "n = int(input('Enter the number of values you want to enter: '))\n",
    "print('')\n",
    "l = []\n",
    "for i in range(n):\n",
    "    l.append(float(input()))\n",
    "    \n",
    "print('The mean of the given data is- ')\n",
    "statistics.mean(l)"
   ]
  },
  {
   "cell_type": "code",
   "execution_count": 1,
   "id": "57cf7ed6",
   "metadata": {},
   "outputs": [
    {
     "name": "stdout",
     "output_type": "stream",
     "text": [
      "This is a calculator to calculate median.\n",
      "Enter the number of values you want to enter: 7\n",
      "\n",
      "1\n",
      "2\n",
      "3\n",
      "4\n",
      "45\n",
      "6\n",
      "7\n",
      "The median of the given data is- \n"
     ]
    },
    {
     "data": {
      "text/plain": [
       "4.0"
      ]
     },
     "execution_count": 1,
     "metadata": {},
     "output_type": "execute_result"
    }
   ],
   "source": [
    "import statistics\n",
    "print('This is a calculator to calculate median.')\n",
    "n1 = int(input('Enter the number of values you want to enter: '))\n",
    "print('')\n",
    "l1 = []\n",
    "for i in range(n1):\n",
    "    l1.append(float(input()))\n",
    "    \n",
    "print('The median of the given data is- ')\n",
    "statistics.median(l1)"
   ]
  },
  {
   "cell_type": "code",
   "execution_count": 6,
   "id": "9ad303a7",
   "metadata": {},
   "outputs": [
    {
     "name": "stdout",
     "output_type": "stream",
     "text": [
      "This is a calculator to calculate mode.\n",
      "Enter the number of values you want to enter: 13\n",
      "\n",
      "2\n",
      "3\n",
      "4\n",
      "2\n",
      "2\n",
      "\n",
      "4\n",
      "4\n",
      "23\n",
      "\n",
      "\n",
      "22\n",
      "4\n",
      "The mode of the given data is- \n"
     ]
    },
    {
     "data": {
      "text/plain": [
       "'4'"
      ]
     },
     "execution_count": 6,
     "metadata": {},
     "output_type": "execute_result"
    }
   ],
   "source": [
    "import statistics\n",
    "print('This is a calculator to calculate mode.')\n",
    "n2 = int(input('Enter the number of values you want to enter: '))\n",
    "print('')\n",
    "l2 = []\n",
    "for i in range(n2):\n",
    "    l2.append(input())\n",
    "\n",
    "print('The mode of the given data is- ')\n",
    "statistics.mode(l2)"
   ]
  },
  {
   "cell_type": "code",
   "execution_count": null,
   "id": "b31c33e0",
   "metadata": {},
   "outputs": [],
   "source": []
  }
 ],
 "metadata": {
  "kernelspec": {
   "display_name": "Python 3 (ipykernel)",
   "language": "python",
   "name": "python3"
  },
  "language_info": {
   "codemirror_mode": {
    "name": "ipython",
    "version": 3
   },
   "file_extension": ".py",
   "mimetype": "text/x-python",
   "name": "python",
   "nbconvert_exporter": "python",
   "pygments_lexer": "ipython3",
   "version": "3.9.12"
  }
 },
 "nbformat": 4,
 "nbformat_minor": 5
}
