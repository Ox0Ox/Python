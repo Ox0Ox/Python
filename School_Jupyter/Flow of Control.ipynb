{
 "cells": [
  {
   "cell_type": "code",
   "execution_count": 31,
   "id": "39e31248",
   "metadata": {},
   "outputs": [
    {
     "name": "stdout",
     "output_type": "stream",
     "text": [
      "Enter the sell amount: as\n",
      "You have entered an invalid Input\n"
     ]
    }
   ],
   "source": [
    "try:\n",
    "    x=eval(input(\"Enter the sell amount: \"))\n",
    "    if x>3000:\n",
    "        disc=x*0.05\n",
    "        print (\"Discount is\", disc)\n",
    "    elif x>=2000:\n",
    "        disc=x*0.03\n",
    "        print (\"Discount is\", disc)\n",
    "    elif x>=1000 and x<2000:\n",
    "        disc=x*0.02\n",
    "        print (\"Discount is\", disc)\n",
    "    else:\n",
    "        print(\"NOT APPLICABLE\")\n",
    "except ValueError:\n",
    "    print('You have entered an invalid Input')\n",
    "except SyntaxError:\n",
    "    print('You have entered an invalid Input')"
   ]
  },
  {
   "cell_type": "code",
   "execution_count": 2,
   "id": "c9da53ff",
   "metadata": {},
   "outputs": [
    {
     "name": "stdout",
     "output_type": "stream",
     "text": [
      "Enter number for which you want factorial: 5\n",
      "The factorial of 5 is 120\n"
     ]
    }
   ],
   "source": [
    "try:\n",
    "    n = int(input('Enter number for which you want factorial: '))\n",
    "    fact = 1\n",
    "    for i in range(1,n+1):\n",
    "        fact = fact*i\n",
    "    print('The factorial of',n,'is',fact)\n",
    "except ValueError:\n",
    "    print('You have entered an invalid input. Please enter integers only')"
   ]
  },
  {
   "cell_type": "code",
   "execution_count": 44,
   "id": "2c648082",
   "metadata": {},
   "outputs": [
    {
     "name": "stdout",
     "output_type": "stream",
     "text": [
      "Enter the start of your range: 5\n",
      "Enter the end of your range: as\n",
      "Invalid Input\n"
     ]
    }
   ],
   "source": [
    "try:\n",
    "    n = int(input('Enter the start of your range: '))\n",
    "    n1 = int(input('Enter the end of your range: '))\n",
    "\n",
    "    if n%2 == 1:\n",
    "        n = n+1\n",
    "    elif n1%2 == 1:\n",
    "        n1 = n1-1\n",
    "    for i in range(n,n1+2,2):\n",
    "        print(i)\n",
    "except ValueError:\n",
    "    print('Invalid Input. Please enter integers only.')"
   ]
  },
  {
   "cell_type": "code",
   "execution_count": 48,
   "id": "c58eb7a2",
   "metadata": {},
   "outputs": [
    {
     "name": "stdout",
     "output_type": "stream",
     "text": [
      "Enter the start of your range: 0\n",
      "Enter the end of your range: 20\n",
      "110\n"
     ]
    }
   ],
   "source": [
    "try:\n",
    "    n = int(input('Enter the start of your range: '))\n",
    "    n1 = int(input('Enter the end of your range: '))\n",
    "    sum = 0\n",
    "    if n%2 == 1:\n",
    "        n = n+1\n",
    "    elif n1%2 == 1:\n",
    "        n1 = n1-1\n",
    "    for i in range(n,n1+2,2):\n",
    "        sum = sum+i\n",
    "    print(sum)\n",
    "except ValueError:\n",
    "    print('Invalid Input. Please enter integers only.')"
   ]
  },
  {
   "cell_type": "code",
   "execution_count": 5,
   "id": "69f035c8",
   "metadata": {
    "scrolled": true
   },
   "outputs": [
    {
     "name": "stdout",
     "output_type": "stream",
     "text": [
      "Enter Val: 089\n",
      "Enter Val: 0\n",
      "Enter Val: 89\n",
      "Enter Val: 980\n",
      "Enter Val: 19.00\n"
     ]
    },
    {
     "ename": "ValueError",
     "evalue": "invalid literal for int() with base 10: '19.00'",
     "output_type": "error",
     "traceback": [
      "\u001b[1;31m---------------------------------------------------------------------------\u001b[0m",
      "\u001b[1;31mValueError\u001b[0m                                Traceback (most recent call last)",
      "Input \u001b[1;32mIn [5]\u001b[0m, in \u001b[0;36m<cell line: 3>\u001b[1;34m()\u001b[0m\n\u001b[0;32m      2\u001b[0m x \u001b[38;5;241m=\u001b[39m \u001b[38;5;241m0\u001b[39m\n\u001b[0;32m      3\u001b[0m \u001b[38;5;28;01mwhile\u001b[39;00m x\u001b[38;5;241m<\u001b[39m\u001b[38;5;241m10\u001b[39m:\n\u001b[1;32m----> 4\u001b[0m     n \u001b[38;5;241m=\u001b[39m \u001b[38;5;28;43mint\u001b[39;49m\u001b[43m(\u001b[49m\u001b[38;5;28;43minput\u001b[39;49m\u001b[43m(\u001b[49m\u001b[38;5;124;43m'\u001b[39;49m\u001b[38;5;124;43mEnter Val: \u001b[39;49m\u001b[38;5;124;43m'\u001b[39;49m\u001b[43m)\u001b[49m\u001b[43m)\u001b[49m\n\u001b[0;32m      5\u001b[0m     l\u001b[38;5;241m.\u001b[39mappend(n)\n\u001b[0;32m      6\u001b[0m     x \u001b[38;5;241m=\u001b[39m x\u001b[38;5;241m+\u001b[39m\u001b[38;5;241m1\u001b[39m\n",
      "\u001b[1;31mValueError\u001b[0m: invalid literal for int() with base 10: '19.00'"
     ]
    }
   ],
   "source": [
    "l = []\n",
    "x = 0\n",
    "while x<10:\n",
    "    n = int(input('Enter Val: '))\n",
    "    l.append(n)\n",
    "    x = x+1\n",
    "    \n",
    "l.sort()\n",
    "print(l)\n",
    "if l[0] == l[1]:\n",
    "    print('The second smallest number is',l[2])\n",
    "print('The smallest number is',l[0])\n",
    "\n",
    "print('The second smallest number is',l[1])"
   ]
  },
  {
   "cell_type": "code",
   "execution_count": 6,
   "id": "4b835572",
   "metadata": {
    "scrolled": true
   },
   "outputs": [
    {
     "name": "stdout",
     "output_type": "stream",
     "text": [
      "3 4 5 are pythagorean triplets\n",
      "6 8 10 are pythagorean triplets\n",
      "5 12 13 are pythagorean triplets\n",
      "9 12 15 are pythagorean triplets\n",
      "8 15 17 are pythagorean triplets\n"
     ]
    }
   ],
   "source": [
    "for i in range(1,20):\n",
    "    for j in range(1,i):\n",
    "        for p in range(1,j):\n",
    "            if i**2 == j**2 + p**2:\n",
    "                print(p,j,i,'are pythagorean triplets')"
   ]
  },
  {
   "cell_type": "code",
   "execution_count": 9,
   "id": "5c44f42d",
   "metadata": {},
   "outputs": [
    {
     "name": "stdout",
     "output_type": "stream",
     "text": [
      "1\n",
      "2\n",
      "3\n",
      "5\n",
      "7\n",
      "11\n",
      "13\n",
      "17\n",
      "19\n",
      "23\n",
      "29\n",
      "31\n",
      "37\n",
      "41\n",
      "43\n",
      "47\n",
      "53\n",
      "59\n",
      "61\n",
      "67\n",
      "71\n",
      "73\n",
      "79\n",
      "83\n",
      "89\n",
      "97\n"
     ]
    }
   ],
   "source": [
    "for i in range(1,101):\n",
    "    for j in range(2,i):\n",
    "        if i%j == 0:\n",
    "            break\n",
    "    else:\n",
    "        print(i)\n",
    "    "
   ]
  },
  {
   "cell_type": "code",
   "execution_count": 22,
   "id": "c0934f20",
   "metadata": {},
   "outputs": [
    {
     "name": "stdout",
     "output_type": "stream",
     "text": [
      "Enter range: 1000\n",
      "2 is prime\n",
      "3 is prime\n",
      "5 is prime\n",
      "7 is prime\n",
      "11 is prime\n",
      "13 is prime\n",
      "17 is prime\n",
      "19 is prime\n",
      "23 is prime\n",
      "29 is prime\n",
      "31 is prime\n",
      "37 is prime\n",
      "41 is prime\n",
      "43 is prime\n",
      "47 is prime\n",
      "53 is prime\n",
      "59 is prime\n",
      "61 is prime\n",
      "67 is prime\n",
      "71 is prime\n",
      "73 is prime\n",
      "79 is prime\n",
      "83 is prime\n",
      "89 is prime\n",
      "97 is prime\n",
      "101 is prime\n",
      "103 is prime\n",
      "107 is prime\n",
      "109 is prime\n",
      "113 is prime\n",
      "127 is prime\n",
      "131 is prime\n",
      "137 is prime\n",
      "139 is prime\n",
      "149 is prime\n",
      "151 is prime\n",
      "157 is prime\n",
      "163 is prime\n",
      "167 is prime\n",
      "173 is prime\n",
      "179 is prime\n",
      "181 is prime\n",
      "191 is prime\n",
      "193 is prime\n",
      "197 is prime\n",
      "199 is prime\n",
      "211 is prime\n",
      "223 is prime\n",
      "227 is prime\n",
      "229 is prime\n",
      "233 is prime\n",
      "239 is prime\n",
      "241 is prime\n",
      "251 is prime\n",
      "257 is prime\n",
      "263 is prime\n",
      "269 is prime\n",
      "271 is prime\n",
      "277 is prime\n",
      "281 is prime\n",
      "283 is prime\n",
      "293 is prime\n",
      "307 is prime\n",
      "311 is prime\n",
      "313 is prime\n",
      "317 is prime\n",
      "331 is prime\n",
      "337 is prime\n",
      "347 is prime\n",
      "349 is prime\n",
      "353 is prime\n",
      "359 is prime\n",
      "367 is prime\n",
      "373 is prime\n",
      "379 is prime\n",
      "383 is prime\n",
      "389 is prime\n",
      "397 is prime\n",
      "401 is prime\n",
      "409 is prime\n",
      "419 is prime\n",
      "421 is prime\n",
      "431 is prime\n",
      "433 is prime\n",
      "439 is prime\n",
      "443 is prime\n",
      "449 is prime\n",
      "457 is prime\n",
      "461 is prime\n",
      "463 is prime\n",
      "467 is prime\n",
      "479 is prime\n",
      "487 is prime\n",
      "491 is prime\n",
      "499 is prime\n",
      "503 is prime\n",
      "509 is prime\n",
      "521 is prime\n",
      "523 is prime\n",
      "541 is prime\n",
      "547 is prime\n",
      "557 is prime\n",
      "563 is prime\n",
      "569 is prime\n",
      "571 is prime\n",
      "577 is prime\n",
      "587 is prime\n",
      "593 is prime\n",
      "599 is prime\n",
      "601 is prime\n",
      "607 is prime\n",
      "613 is prime\n",
      "617 is prime\n",
      "619 is prime\n",
      "631 is prime\n",
      "641 is prime\n",
      "643 is prime\n",
      "647 is prime\n",
      "653 is prime\n",
      "659 is prime\n",
      "661 is prime\n",
      "673 is prime\n",
      "677 is prime\n",
      "683 is prime\n",
      "691 is prime\n",
      "701 is prime\n",
      "709 is prime\n",
      "719 is prime\n",
      "727 is prime\n",
      "733 is prime\n",
      "739 is prime\n",
      "743 is prime\n",
      "751 is prime\n",
      "757 is prime\n",
      "761 is prime\n",
      "769 is prime\n",
      "773 is prime\n",
      "787 is prime\n",
      "797 is prime\n",
      "809 is prime\n",
      "811 is prime\n",
      "821 is prime\n",
      "823 is prime\n",
      "827 is prime\n",
      "829 is prime\n",
      "839 is prime\n",
      "853 is prime\n",
      "857 is prime\n",
      "859 is prime\n",
      "863 is prime\n",
      "877 is prime\n",
      "881 is prime\n",
      "883 is prime\n",
      "887 is prime\n",
      "907 is prime\n",
      "911 is prime\n",
      "919 is prime\n",
      "929 is prime\n",
      "937 is prime\n",
      "941 is prime\n",
      "947 is prime\n",
      "953 is prime\n",
      "967 is prime\n",
      "971 is prime\n",
      "977 is prime\n",
      "983 is prime\n",
      "991 is prime\n",
      "997 is prime\n",
      "There are 168 prime numbers between 1 and 1000\n"
     ]
    }
   ],
   "source": [
    "n = int(input('Enter range: '))\n",
    "c = 0\n",
    "for i in range(2,n):\n",
    "    for j in range(2,i):\n",
    "        if i%j == 0:\n",
    "            break\n",
    "    else:\n",
    "        print(i,'is prime')\n",
    "        c = c+1\n",
    "print('There are',c,'prime numbers between 1 and',n)"
   ]
  },
  {
   "cell_type": "code",
   "execution_count": 18,
   "id": "9b78d5e3",
   "metadata": {},
   "outputs": [
    {
     "name": "stdout",
     "output_type": "stream",
     "text": [
      "Enter number of terms: 6\n",
      "1,1,2,3,5,8,13,"
     ]
    }
   ],
   "source": [
    "n = int(input('Enter number of terms: '))\n",
    "x = 1\n",
    "y = 0\n",
    "print(1,end=',')\n",
    "for i in range(n):\n",
    "    z = x+y\n",
    "    print(z,end = ',')\n",
    "    y = x\n",
    "    x = z"
   ]
  },
  {
   "cell_type": "code",
   "execution_count": null,
   "id": "44b8161c",
   "metadata": {},
   "outputs": [],
   "source": []
  }
 ],
 "metadata": {
  "kernelspec": {
   "display_name": "Python 3 (ipykernel)",
   "language": "python",
   "name": "python3"
  },
  "language_info": {
   "codemirror_mode": {
    "name": "ipython",
    "version": 3
   },
   "file_extension": ".py",
   "mimetype": "text/x-python",
   "name": "python",
   "nbconvert_exporter": "python",
   "pygments_lexer": "ipython3",
   "version": "3.11.7"
  }
 },
 "nbformat": 4,
 "nbformat_minor": 5
}
