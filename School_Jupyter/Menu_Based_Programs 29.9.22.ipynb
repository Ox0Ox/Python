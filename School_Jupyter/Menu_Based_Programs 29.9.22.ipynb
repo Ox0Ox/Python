{
 "cells": [
  {
   "cell_type": "code",
   "execution_count": 5,
   "id": "79013b64",
   "metadata": {},
   "outputs": [
    {
     "name": "stdout",
     "output_type": "stream",
     "text": [
      "This is a calculator for two numbers\n",
      "Enter your first number: 23434\n",
      "Enter your second number: 23423\n",
      "Enter 1 for addition, enter 2 for substraction, enter 3 for division, enter 4 for multiplication, enter 5 for floor division, enter 6 for exponent, enter 7 for modulus/remainder\n",
      "Enter your choice: 5\n",
      "Your integer division is 1\n"
     ]
    }
   ],
   "source": [
    "print('This is a calculator for two numbers')\n",
    "n = eval(input('Enter your first number: '))\n",
    "n1 = eval(input('Enter your second number: '))\n",
    "\n",
    "print('Enter 1 for addition, enter 2 for substraction, enter 3 for division, enter 4 for multiplication, enter 5 for floor division, enter 6 for exponent, enter 7 for modulus/remainder')\n",
    "choice = int(input('Enter your choice: '))\n",
    "\n",
    "if choice == 1:\n",
    "    sum = n+n1\n",
    "    print('Your sum is',sum)\n",
    "elif choice == 2:\n",
    "    diff = n-n1\n",
    "    print('Your difference is',diff)\n",
    "elif choice == 3:\n",
    "    div = n/n1\n",
    "    print('Your division is',div)\n",
    "elif choice == 4:\n",
    "    product = n*n1\n",
    "    print('Your product is',product)\n",
    "elif choice == 5:\n",
    "    floor = n//n1\n",
    "    print('Your integer division is',floor)\n",
    "elif choice == 6:\n",
    "    exp = n**n1\n",
    "    print('Your exponent is',exp)\n",
    "elif choice == 7:\n",
    "    rem = n%n1\n",
    "    print('Your remainder of the division is',rem)\n",
    "    "
   ]
  },
  {
   "cell_type": "code",
   "execution_count": null,
   "id": "852908ba",
   "metadata": {},
   "outputs": [],
   "source": []
  }
 ],
 "metadata": {
  "kernelspec": {
   "display_name": "Python 3 (ipykernel)",
   "language": "python",
   "name": "python3"
  },
  "language_info": {
   "codemirror_mode": {
    "name": "ipython",
    "version": 3
   },
   "file_extension": ".py",
   "mimetype": "text/x-python",
   "name": "python",
   "nbconvert_exporter": "python",
   "pygments_lexer": "ipython3",
   "version": "3.9.12"
  }
 },
 "nbformat": 4,
 "nbformat_minor": 5
}
