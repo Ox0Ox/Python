{
 "cells": [
  {
   "cell_type": "code",
   "execution_count": 49,
   "id": "4a1121e1",
   "metadata": {},
   "outputs": [
    {
     "name": "stdout",
     "output_type": "stream",
     "text": [
      "Enter the phone number: 2098527092\n",
      "Invalid Phone Number\n"
     ]
    }
   ],
   "source": [
    "s = input(\"Enter the string: \")\n",
    "sum = 0\n",
    "d = ''\n",
    "for ch in s:\n",
    "    if ch.isdigit() :\n",
    "        d += ch\n",
    "        sum += int(ch)\n",
    "if not d:\n",
    "    print(s, \"has no digits\")\n",
    "else :\n",
    "    print(s, \"has the digits\", digitStr, \"which sum to\", sum)\n"
   ]
  },
  {
   "cell_type": "code",
   "execution_count": null,
   "id": "3ff292f0",
   "metadata": {},
   "outputs": [],
   "source": [
    " "
   ]
  }
 ],
 "metadata": {
  "kernelspec": {
   "display_name": "Python 3 (ipykernel)",
   "language": "python",
   "name": "python3"
  },
  "language_info": {
   "codemirror_mode": {
    "name": "ipython",
    "version": 3
   },
   "file_extension": ".py",
   "mimetype": "text/x-python",
   "name": "python",
   "nbconvert_exporter": "python",
   "pygments_lexer": "ipython3",
   "version": "3.9.12"
  }
 },
 "nbformat": 4,
 "nbformat_minor": 5
}
