{
 "cells": [
  {
   "cell_type": "code",
   "execution_count": 29,
   "id": "737ee3d5",
   "metadata": {},
   "outputs": [
    {
     "name": "stdout",
     "output_type": "stream",
     "text": [
      "Please enter a number between 1 - 10: 3\n",
      "Try again, you have 2 chances left\n",
      "Please enter a number between 1 - 10: 6\n",
      "Try again, you have 1 chances left\n",
      "Please enter a number between 1 - 10: 2\n",
      "You lose, the number was 10\n"
     ]
    }
   ],
   "source": [
    "import random\n",
    "\n",
    "num = [1,2,3,4,5,6,7,8,9,10]\n",
    "rnd = random.choice(num)\n",
    "\n",
    "for i in range(3):\n",
    "    n = int(input('Please enter a number between 1 - 10: '))\n",
    "    if n == rnd:\n",
    "        print('You win')\n",
    "        break\n",
    "    else:\n",
    "        if i == 2:\n",
    "            print('You lose, the number was',rnd)\n",
    "        else:\n",
    "            print('Try again, you have',3-(i+1),'chances left')"
   ]
  },
  {
   "cell_type": "code",
   "execution_count": 39,
   "id": "f8d52ade",
   "metadata": {},
   "outputs": [
    {
     "name": "stdout",
     "output_type": "stream",
     "text": [
      "Enter input: hi\n",
      "hi\n",
      "Enter input: how are you\n",
      "I am doing great\n",
      "how are you doing\n",
      "Enter input: lol\n",
      "Hey you did not answer my question\n",
      "Enter input: bye\n",
      "see you later\n"
     ]
    }
   ],
   "source": [
    "flag = True\n",
    "greeting = ['hi', 'hello', 'hey']\n",
    "bye = ['bye','goodbye','see you later','until next time']\n",
    "greetquestion = ['how are you', 'how is it going','how are you doing']\n",
    "while flag == True:\n",
    "    query = input('Enter input: ')\n",
    "    query = query.lower()\n",
    "    if query in greetquestion:\n",
    "        response = ['I am doing great','Just fine, thank you']\n",
    "        print(random.choice(response))\n",
    "        print(random.choice(greetquestion))\n",
    "        query1 = input('Enter input: ')\n",
    "        good = ['good','fine','great']\n",
    "        bad = ['bad','horrible','not good']\n",
    "        goodresponse = ['That is great to hear','Wonderful']\n",
    "        badresponse = ['Sorry to hear','hope your day gets better']\n",
    "        if query1 in good:\n",
    "            print(random.choice(goodresponse))\n",
    "        elif query1 in bad:\n",
    "            print(random.choice(badresponse))\n",
    "        else:\n",
    "            print('Hey you did not answer my question')\n",
    "    elif query in greeting:\n",
    "        print(random.choice(greeting))\n",
    "    elif query in bye:\n",
    "        print(random.choice(bye))\n",
    "        flag = False"
   ]
  },
  {
   "cell_type": "code",
   "execution_count": null,
   "id": "9d1cacdd",
   "metadata": {},
   "outputs": [],
   "source": []
  }
 ],
 "metadata": {
  "kernelspec": {
   "display_name": "Python 3 (ipykernel)",
   "language": "python",
   "name": "python3"
  },
  "language_info": {
   "codemirror_mode": {
    "name": "ipython",
    "version": 3
   },
   "file_extension": ".py",
   "mimetype": "text/x-python",
   "name": "python",
   "nbconvert_exporter": "python",
   "pygments_lexer": "ipython3",
   "version": "3.9.12"
  }
 },
 "nbformat": 4,
 "nbformat_minor": 5
}
