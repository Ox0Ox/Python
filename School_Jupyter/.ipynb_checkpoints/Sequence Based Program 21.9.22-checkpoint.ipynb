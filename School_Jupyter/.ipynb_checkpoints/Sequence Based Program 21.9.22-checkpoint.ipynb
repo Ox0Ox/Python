{
 "cells": [
  {
   "cell_type": "code",
   "execution_count": 22,
   "id": "2dc2e129",
   "metadata": {},
   "outputs": [
    {
     "name": "stdout",
     "output_type": "stream",
     "text": [
      "Enter your 1st number: 2\n",
      "ENter your second number:3\n",
      "your exponent ans is 8\n",
      "<class 'int'>\n"
     ]
    }
   ],
   "source": [
    "n = eval(input('Enter your 1st number: '))\n",
    "n1 = eval(input('ENter your second number:'))\n",
    "power = n**n1\n",
    "print('your exponent ans is',power)\n",
    "\n",
    "print(type(power))"
   ]
  },
  {
   "cell_type": "code",
   "execution_count": 21,
   "id": "7bb141fc",
   "metadata": {},
   "outputs": [
    {
     "name": "stdout",
     "output_type": "stream",
     "text": [
      "Enter your 1st number: 5\n",
      "ENter your second number:4\n",
      "your integer division is 1\n",
      "<class 'float'>\n"
     ]
    }
   ],
   "source": [
    "n = eval(input('Enter your 1st number: '))\n",
    "n1 = eval(input('ENter your second number:'))\n",
    "floordiv = n//n1\n",
    "print('your integer division is',floordiv)\n",
    "\n",
    "print(type(floordiv))"
   ]
  },
  {
   "cell_type": "code",
   "execution_count": 23,
   "id": "59817f6d",
   "metadata": {},
   "outputs": [
    {
     "name": "stdout",
     "output_type": "stream",
     "text": [
      "Enter principal amt: 100\n",
      "Enter time period: 2\n",
      "Enter rate of interest: 5\n",
      "Simple interest is 10.0\n"
     ]
    }
   ],
   "source": [
    "p = eval(input('Enter principal amt: '))\n",
    "t = eval(input('Enter time period: '))\n",
    "r = eval(input('Enter rate of interest: '))\n",
    "\n",
    "si = (p*t*r)/100\n",
    "print('Simple interest is', si)"
   ]
  },
  {
   "cell_type": "code",
   "execution_count": 24,
   "id": "debda5d8",
   "metadata": {},
   "outputs": [
    {
     "name": "stdout",
     "output_type": "stream",
     "text": [
      "Enter principal amt: 10\n",
      "Enter time period: 5\n",
      "Enter rate of interest: 5\n",
      "Compund interest is 12.762815625000004\n"
     ]
    }
   ],
   "source": [
    "p = eval(input('Enter principal amt: '))\n",
    "t = eval(input('Enter time period: '))\n",
    "r = eval(input('Enter rate of interest: '))\n",
    "\n",
    "ci = p*(1+(r/100))**t\n",
    "print('Compund interest is', ci)"
   ]
  },
  {
   "cell_type": "code",
   "execution_count": null,
   "id": "94256877",
   "metadata": {},
   "outputs": [],
   "source": []
  }
 ],
 "metadata": {
  "kernelspec": {
   "display_name": "Python 3 (ipykernel)",
   "language": "python",
   "name": "python3"
  },
  "language_info": {
   "codemirror_mode": {
    "name": "ipython",
    "version": 3
   },
   "file_extension": ".py",
   "mimetype": "text/x-python",
   "name": "python",
   "nbconvert_exporter": "python",
   "pygments_lexer": "ipython3",
   "version": "3.9.12"
  }
 },
 "nbformat": 4,
 "nbformat_minor": 5
}
