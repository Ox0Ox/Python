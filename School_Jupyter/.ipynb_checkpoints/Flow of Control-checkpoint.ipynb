{
 "cells": [
  {
   "cell_type": "code",
   "execution_count": 31,
   "id": "39e31248",
   "metadata": {},
   "outputs": [
    {
     "name": "stdout",
     "output_type": "stream",
     "text": [
      "Enter the sell amount: as\n",
      "You have entered an invalid Input\n"
     ]
    }
   ],
   "source": [
    "try:\n",
    "    x=eval(input(\"Enter the sell amount: \"))\n",
    "    if x>3000:\n",
    "        disc=x*0.05\n",
    "        print (\"Discount is\", disc)\n",
    "    elif x>=2000:\n",
    "        disc=x*0.03\n",
    "        print (\"Discount is\", disc)\n",
    "    elif x>=1000 and x<2000:\n",
    "        disc=x*0.02\n",
    "        print (\"Discount is\", disc)\n",
    "    else:\n",
    "        print(\"NOT APPLICABLE\")\n",
    "except ValueError:\n",
    "    print('You have entered an invalid Input')\n",
    "except SyntaxError:\n",
    "    print('You have entered an invalid Input')"
   ]
  },
  {
   "cell_type": "code",
   "execution_count": 2,
   "id": "c9da53ff",
   "metadata": {},
   "outputs": [
    {
     "name": "stdout",
     "output_type": "stream",
     "text": [
      "Enter number for which you want factorial: 5\n",
      "The factorial of 5 is 120\n"
     ]
    }
   ],
   "source": [
    "try:\n",
    "    n = int(input('Enter number for which you want factorial: '))\n",
    "    fact = 1\n",
    "    for i in range(1,n+1):\n",
    "        fact = fact*i\n",
    "    print('The factorial of',n,'is',fact)\n",
    "except ValueError:\n",
    "    print('You have entered an invalid input. Please enter integers only')"
   ]
  },
  {
   "cell_type": "code",
   "execution_count": 44,
   "id": "2c648082",
   "metadata": {},
   "outputs": [
    {
     "name": "stdout",
     "output_type": "stream",
     "text": [
      "Enter the start of your range: 5\n",
      "Enter the end of your range: as\n",
      "Invalid Input\n"
     ]
    }
   ],
   "source": [
    "try:\n",
    "    n = int(input('Enter the start of your range: '))\n",
    "    n1 = int(input('Enter the end of your range: '))\n",
    "\n",
    "    if n%2 == 1:\n",
    "        n = n+1\n",
    "    elif n1%2 == 1:\n",
    "        n1 = n1-1\n",
    "    for i in range(n,n1+2,2):\n",
    "        print(i)\n",
    "except ValueError:\n",
    "    print('Invalid Input. Please enter integers only.')"
   ]
  },
  {
   "cell_type": "code",
   "execution_count": 48,
   "id": "c58eb7a2",
   "metadata": {},
   "outputs": [
    {
     "name": "stdout",
     "output_type": "stream",
     "text": [
      "Enter the start of your range: 0\n",
      "Enter the end of your range: 20\n",
      "110\n"
     ]
    }
   ],
   "source": [
    "try:\n",
    "    n = int(input('Enter the start of your range: '))\n",
    "    n1 = int(input('Enter the end of your range: '))\n",
    "    sum = 0\n",
    "    if n%2 == 1:\n",
    "        n = n+1\n",
    "    elif n1%2 == 1:\n",
    "        n1 = n1-1\n",
    "    for i in range(n,n1+2,2):\n",
    "        sum = sum+i\n",
    "    print(sum)\n",
    "except ValueError:\n",
    "    print('Invalid Input. Please enter integers only.')"
   ]
  },
  {
   "cell_type": "code",
   "execution_count": 8,
   "id": "69f035c8",
   "metadata": {},
   "outputs": [
    {
     "name": "stdout",
     "output_type": "stream",
     "text": [
      "Enter Val: 3\n",
      "Enter Val: 1\n",
      "Enter Val: 6\n",
      "Enter Val: 23\n",
      "Enter Val: 46\n",
      "Enter Val: 8\n",
      "Enter Val: 35\n",
      "Enter Val: 46\n",
      "Enter Val: 234\n",
      "Enter Val: 1\n",
      "[1, 1, 3, 6, 8, 23, 35, 46, 46, 234]\n",
      "The smallest number is 1\n"
     ]
    }
   ],
   "source": [
    "l = []\n",
    "x = 0\n",
    "while x<10:\n",
    "    n = int(input('Enter Val: '))\n",
    "    l.append(n)\n",
    "    x = x+1\n",
    "    \n",
    "l.sort()\n",
    "print(l)\n",
    "if l[0] == l[1]:\n",
    "    print('The second smallest number is',l[2])\n",
    "print('The smallest number is',l[0])\n",
    "\n",
    "print('The second smallest number is',l[1])"
   ]
  },
  {
   "cell_type": "code",
   "execution_count": 6,
   "id": "4b835572",
   "metadata": {},
   "outputs": [
    {
     "name": "stdout",
     "output_type": "stream",
     "text": [
      "3 4 5 are pythagorean triplets\n",
      "6 8 10 are pythagorean triplets\n",
      "5 12 13 are pythagorean triplets\n",
      "9 12 15 are pythagorean triplets\n",
      "8 15 17 are pythagorean triplets\n"
     ]
    }
   ],
   "source": [
    "for i in range(1,20):\n",
    "    for j in range(1,i):\n",
    "        for p in range(1,j):\n",
    "            if i**2 == j**2 + p**2:\n",
    "                print(p,j,i,'are pythagorean triplets')"
   ]
  },
  {
   "cell_type": "code",
   "execution_count": 10,
   "id": "5c44f42d",
   "metadata": {},
   "outputs": [
    {
     "name": "stdout",
     "output_type": "stream",
     "text": [
      "1\n",
      "2\n",
      "3\n",
      "5\n",
      "7\n",
      "11\n",
      "13\n",
      "17\n",
      "19\n",
      "23\n",
      "29\n",
      "31\n",
      "37\n",
      "41\n",
      "43\n",
      "47\n",
      "53\n",
      "59\n",
      "61\n",
      "67\n",
      "71\n",
      "73\n",
      "79\n",
      "83\n",
      "89\n",
      "97\n"
     ]
    }
   ],
   "source": [
    "for i in range(1,101):\n",
    "    for j in range(2,i):\n",
    "        if i%j == 0:\n",
    "            break\n",
    "    else:\n",
    "        print(i)\n",
    "    "
   ]
  },
  {
   "cell_type": "code",
   "execution_count": null,
   "id": "c0934f20",
   "metadata": {},
   "outputs": [],
   "source": []
  }
 ],
 "metadata": {
  "kernelspec": {
   "display_name": "Python 3 (ipykernel)",
   "language": "python",
   "name": "python3"
  },
  "language_info": {
   "codemirror_mode": {
    "name": "ipython",
    "version": 3
   },
   "file_extension": ".py",
   "mimetype": "text/x-python",
   "name": "python",
   "nbconvert_exporter": "python",
   "pygments_lexer": "ipython3",
   "version": "3.9.12"
  }
 },
 "nbformat": 4,
 "nbformat_minor": 5
}
