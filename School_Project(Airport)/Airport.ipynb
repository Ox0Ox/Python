{
 "cells": [
  {
   "cell_type": "code",
   "execution_count": null,
   "id": "6670aa6f",
   "metadata": {},
   "outputs": [],
   "source": [
    "print('Welcome to Airliner_Bravo')\n",
    "print('Input 1 to view add passenger')\n",
    "n = input('Input your choice: ')"
   ]
  }
 ],
 "metadata": {
  "kernelspec": {
   "display_name": "Python 3 (ipykernel)",
   "language": "python",
   "name": "python3"
  },
  "language_info": {
   "codemirror_mode": {
    "name": "ipython",
    "version": 3
   },
   "file_extension": ".py",
   "mimetype": "text/x-python",
   "name": "python",
   "nbconvert_exporter": "python",
   "pygments_lexer": "ipython3",
   "version": "3.9.12"
  }
 },
 "nbformat": 4,
 "nbformat_minor": 5
}
