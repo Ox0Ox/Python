{
 "cells": [
  {
   "cell_type": "code",
   "execution_count": 1,
   "id": "2d5e77f8",
   "metadata": {},
   "outputs": [
    {
     "data": {
      "text/plain": [
       "'for x in range(n):\\n    stuno = input(\\'Student ID: \\')\\n    name = input(\\'Name: \\')\\n    Class = input(\\'Class: \\')\\n    section = input(\\'Section: \\')\\n    mobno = input(\\'Mobile No: \\')\\n    blood = input(\\'Blood Group: \\')\\n    DOB = input(\\'DOB: \\')\\n    bus = input(\\'Bus Route: \\')\\n    print(\\'\\')\\n    v = \\'insert into movie(S_ID, Name, Class, Section, Mobile_No, Blood_Group, DOB, Bus_Route) values(\"{}\", \"{}\", \"{}\", \"{}\", \"{}\", \"{}\")\\'.format(stuno, name, Class, section, mobno, blood, DOB, bus)\\n    cur.execute(v)\\n    mycon.commit()'"
      ]
     },
     "execution_count": 1,
     "metadata": {},
     "output_type": "execute_result"
    }
   ],
   "source": [
    "import mysql.connector as sqltor\n",
    "mycon=sqltor.connect(host=\"localhost\",user=\"root\",passwd=\"Root@123\")\n",
    "cur = mycon.cursor()\n",
    "cur.execute('use project')\n",
    "cur.execute('Create table student(S_ID int, Name char(20), Class int, Section char(1), Mobile_No int, Blood_Group char, DOB date, Bus_Route int)')\n",
    "cur.execute('Create table Teacher(T_ID int, Name char(20), Subject char(20), Mobile_No int, Blood_Group char, DOB date, Bus_Route int)')\n",
    "cur.execute('Create table OtherStaff(Staff_ID int, Name char(20), Designation char(20), Mobile_No int, Blood_Group char, DOB date, Bus_Route int)')\n"
   ]
  },
  {
   "cell_type": "code",
   "execution_count": null,
   "id": "9c3b6f10",
   "metadata": {},
   "outputs": [],
   "source": [
    "import mysql.connector as sqltor\n",
    "mycon=sqltor.connect(host=\"localhost\",user=\"root\",passwd=\"Root@123\")\n",
    "cur = mycon.cursor()\n",
    "cur.execute('use project')\n",
    "\n",
    "print('Welcome to XYZ school Database')\n",
    "print('Choose Table to work on:')\n",
    "print('Input 1 for student, Input 2 for teacher, Input 3 for otherstaff')\n",
    "inp = input('Input Choice: ')\n",
    "\n",
    "if '1' == inp:\n",
    "    print('Selected table is student')\n",
    "    print('Input 1 for inserting a record, Input 2 for deleting a record, Input 3 for searching a student, Input 4 for viewing complete table')\n",
    "    inps = insert('Input Choice: ')\n",
    "    if '1' == inps:\n",
    "        n = int(input('Enter no. of records to enter: '))\n",
    "        for x in range(n):\n",
    "            stuno = input('Student ID: ')\n",
    "            name = input('Name: ')\n",
    "            Class = input('Class: ')\n",
    "            section = input('Section: ')\n",
    "            mobno = input('Mobile No: ')\n",
    "            blood = input('Blood Group: ')\n",
    "            DOB = input('DOB: ')\n",
    "            bus = input('Bus Route: ')\n",
    "            print('')\n",
    "            v = 'insert into movie(S_ID, Name, Class, Section, Mobile_No, Blood_Group, DOB, Bus_Route) values(\"{}\", \"{}\", \"{}\", \"{}\", \"{}\", \"{}\")'.format(stuno, name, Class, section, mobno, blood, DOB, bus)\n",
    "            cur.execute(v)\n",
    "            mycon.commit()\n",
    "            \n",
    "    elif '2' == inps:\n",
    "        n = int(input('Enter no. of records to delete: '))\n",
    "        for x in range(n):\n",
    "            d_id = int(input('Enter Student ID to remove'))\n",
    "            v = 'delete from student where S_ID == {}'.format(d_id)\n",
    "            cur.execute(v)\n",
    "            mycon.commit()\n",
    "    elif '3' == inps:\n",
    "        search = int(input('Input 1 to search by S_ID, Input 2 to search by name'))\n",
    "        "
   ]
  }
 ],
 "metadata": {
  "kernelspec": {
   "display_name": "Python 3 (ipykernel)",
   "language": "python",
   "name": "python3"
  },
  "language_info": {
   "codemirror_mode": {
    "name": "ipython",
    "version": 3
   },
   "file_extension": ".py",
   "mimetype": "text/x-python",
   "name": "python",
   "nbconvert_exporter": "python",
   "pygments_lexer": "ipython3",
   "version": "3.9.12"
  }
 },
 "nbformat": 4,
 "nbformat_minor": 5
}
