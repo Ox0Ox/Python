{
 "cells": [
  {
   "cell_type": "code",
   "execution_count": 6,
   "id": "9f1e4ba8",
   "metadata": {},
   "outputs": [],
   "source": []
  },
  {
   "cell_type": "code",
   "execution_count": 7,
   "id": "d7ee6c79",
   "metadata": {},
   "outputs": [],
   "source": [
    "cur.execute('Use amaze')"
   ]
  },
  {
   "cell_type": "code",
   "execution_count": null,
   "id": "29a61ece",
   "metadata": {},
   "outputs": [],
   "source": []
  },
  {
   "cell_type": "code",
   "execution_count": 4,
   "id": "03dda9d9",
   "metadata": {},
   "outputs": [],
   "source": []
  },
  {
   "cell_type": "code",
   "execution_count": 2,
   "id": "f02dc463",
   "metadata": {},
   "outputs": [
    {
     "name": "stdout",
     "output_type": "stream",
     "text": [
      "(1, 'sun')\n",
      "(2, 'proxima')\n",
      "(3, 'Lynx')\n",
      "(4, 'Scorpius')\n"
     ]
    }
   ],
   "source": [
    "import mysql.connector as sqltor\n",
    "mycon=sqltor.connect(host=\"localhost\",user=\"root\",passwd=\"Root@123\")\n",
    "cur = mycon.cursor()\n",
    "#cur.execute('Create database amaze')\n",
    "\n",
    "cur.execute('use amaze')\n",
    "cur.execute('insert into stars values(1,\"sun\"), (2, \"proxima\"), (3, \"Lynx\"), (4, \"Scorpius\")')\n",
    "cur.execute('select*from stars')\n",
    "\n",
    "for i in cur:\n",
    "    print(i)"
   ]
  },
  {
   "cell_type": "code",
   "execution_count": 22,
   "id": "d5dda19b",
   "metadata": {},
   "outputs": [
    {
     "name": "stdout",
     "output_type": "stream",
     "text": [
      "('M1001', 'Amina', 'GYM')\n",
      "('M1002', 'Pratik', 'GYM')\n",
      "('M1003', 'Simon', 'SWIMMING')\n"
     ]
    }
   ],
   "source": [
    "import mysql.connector as sqltor\n",
    "mycon=sqltor.connect(host=\"localhost\",user=\"root\",passwd=\"Root@123\")\n",
    "cur = mycon.cursor()\n",
    "#cur.execute('Create database amaze')\n",
    "\n",
    "cur.execute('Use club')\n",
    "#cur.execute('create table member(M_ID varchar(20), Name char(20), Activity char(20))')\n",
    "cur.execute('insert into member values(\"M1001\", \"Amina\", \"GYM\"), (\"M1002\", \"Pratik\", \"GYM\"), (\"M1003\", \"Simon\", \"SWIMMING\")')\n",
    "cur.execute('Select * from member')\n",
    "for i in cur:\n",
    "    print(i)"
   ]
  },
  {
   "cell_type": "code",
   "execution_count": 26,
   "id": "2382b6b0",
   "metadata": {},
   "outputs": [
    {
     "name": "stdout",
     "output_type": "stream",
     "text": [
      "Enter M_ID: m1001\n",
      "('M1001', 'Amina', 'GYM')\n"
     ]
    }
   ],
   "source": [
    "l = []\n",
    "m = input('Enter M_ID: ')\n",
    "s = 'select * from member where M_ID=%s'\n",
    "l.append(m)\n",
    "cur.execute(s,l)\n",
    "v = cur.fetchall()\n",
    "for j in v:\n",
    "    print(j)"
   ]
  },
  {
   "cell_type": "code",
   "execution_count": 23,
   "id": "c5d67ccb",
   "metadata": {},
   "outputs": [
    {
     "name": "stdout",
     "output_type": "stream",
     "text": [
      "Enter name: pratik\n",
      "('M1002', 'Pratik', 'GYM')\n"
     ]
    }
   ],
   "source": [
    "n = input('Enter name: ')\n",
    "s = 'select * from member where name=\"%s\"'%(n,)\n",
    "cur.execute(s)\n",
    "v = cur.fetchall()\n",
    "for j in v:\n",
    "    print(j)"
   ]
  },
  {
   "cell_type": "code",
   "execution_count": 24,
   "id": "e6745206",
   "metadata": {},
   "outputs": [
    {
     "name": "stdout",
     "output_type": "stream",
     "text": [
      "Enter M_ID: m1001\n",
      "('M1001', 'Amina', 'GYM')\n"
     ]
    }
   ],
   "source": [
    "m = input('Enter M_ID: ')\n",
    "s = 'select * from member where M_ID=\"%s\"'%(m,)\n",
    "cur.execute(s)\n",
    "v = cur.fetchall()\n",
    "for j in v:\n",
    "    print(j)"
   ]
  },
  {
   "cell_type": "code",
   "execution_count": 31,
   "id": "2020462f",
   "metadata": {},
   "outputs": [
    {
     "name": "stdout",
     "output_type": "stream",
     "text": [
      "ID: 101\n",
      "Name: Amina\n",
      "Activity: GYM\n",
      "('101', 'Amina', 'GYM')\n"
     ]
    }
   ],
   "source": [
    "mycon=sqltor.connect(host=\"localhost\",user=\"root\",passwd=\"Root@123\")\n",
    "cur = mycon.cursor()\n",
    "cur.execute('Use club')\n",
    "id1 = input('ID: ')\n",
    "name = input('Name: ')\n",
    "act = input('Activity: ')\n",
    "v = 'insert into member(M_ID, Name, Activity) values(\"%s\", \"%s\", \"%s\")'%(id1, name, act)\n",
    "cur.execute(v)\n",
    "mycon.commit()\n",
    "cur.execute('select * from member')\n",
    "for j in cur:\n",
    "    print(j)"
   ]
  },
  {
   "cell_type": "code",
   "execution_count": 32,
   "id": "ae421796",
   "metadata": {},
   "outputs": [
    {
     "name": "stdout",
     "output_type": "stream",
     "text": [
      "('101', 'Amina', 'GYM')\n",
      "('102', 'Pratik', 'GYM')\n",
      "('103', 'Simon', 'SWIMMING')\n"
     ]
    }
   ],
   "source": [
    "cur.execute('insert into member values(\"102\", \"Pratik\", \"GYM\"), (\"103\", \"Simon\", \"SWIMMING\")')\n",
    "mycon.commit()\n",
    "cur.execute('Select * from member')\n",
    "for i in cur:\n",
    "    print(i)"
   ]
  },
  {
   "cell_type": "code",
   "execution_count": 15,
   "id": "bf0675d4",
   "metadata": {},
   "outputs": [
    {
     "name": "stdout",
     "output_type": "stream",
     "text": [
      "Movie ID: 005\n",
      "Movie Name: Telgu_Movie\n",
      "Category: Action\n",
      "Release Date: \n",
      "Production Cost: 100000\n",
      "Business Cost: \n",
      "\n"
     ]
    },
    {
     "ename": "DataError",
     "evalue": "1292 (22007): Incorrect date value: 'None' for column 'ReleaseDate' at row 1",
     "output_type": "error",
     "traceback": [
      "\u001b[1;31m---------------------------------------------------------------------------\u001b[0m",
      "\u001b[1;31mDataError\u001b[0m                                 Traceback (most recent call last)",
      "Input \u001b[1;32mIn [15]\u001b[0m, in \u001b[0;36m<cell line: 7>\u001b[1;34m()\u001b[0m\n\u001b[0;32m     16\u001b[0m     \u001b[38;5;28mprint\u001b[39m(\u001b[38;5;124m'\u001b[39m\u001b[38;5;124m'\u001b[39m)\n\u001b[0;32m     17\u001b[0m     v \u001b[38;5;241m=\u001b[39m \u001b[38;5;124m'\u001b[39m\u001b[38;5;124minsert into movie(MovieID, MovieName, Category, ReleaseDate, ProductionCost, BusinessCost) values(\u001b[39m\u001b[38;5;124m\"\u001b[39m\u001b[38;5;132;01m{}\u001b[39;00m\u001b[38;5;124m\"\u001b[39m\u001b[38;5;124m, \u001b[39m\u001b[38;5;124m\"\u001b[39m\u001b[38;5;132;01m{}\u001b[39;00m\u001b[38;5;124m\"\u001b[39m\u001b[38;5;124m, \u001b[39m\u001b[38;5;124m\"\u001b[39m\u001b[38;5;132;01m{}\u001b[39;00m\u001b[38;5;124m\"\u001b[39m\u001b[38;5;124m, \u001b[39m\u001b[38;5;124m\"\u001b[39m\u001b[38;5;132;01m{}\u001b[39;00m\u001b[38;5;124m\"\u001b[39m\u001b[38;5;124m, \u001b[39m\u001b[38;5;124m\"\u001b[39m\u001b[38;5;132;01m{}\u001b[39;00m\u001b[38;5;124m\"\u001b[39m\u001b[38;5;124m, \u001b[39m\u001b[38;5;124m\"\u001b[39m\u001b[38;5;132;01m{}\u001b[39;00m\u001b[38;5;124m\"\u001b[39m\u001b[38;5;124m)\u001b[39m\u001b[38;5;124m'\u001b[39m\u001b[38;5;241m.\u001b[39mformat(stuno, name, game, grade1, supw, grade2)\n\u001b[1;32m---> 18\u001b[0m     \u001b[43mcur\u001b[49m\u001b[38;5;241;43m.\u001b[39;49m\u001b[43mexecute\u001b[49m\u001b[43m(\u001b[49m\u001b[43mv\u001b[49m\u001b[43m)\u001b[49m\n\u001b[0;32m     19\u001b[0m     mycon\u001b[38;5;241m.\u001b[39mcommit()\n\u001b[0;32m     20\u001b[0m cur\u001b[38;5;241m.\u001b[39mexecute(\u001b[38;5;124m'\u001b[39m\u001b[38;5;124mselect * from movie\u001b[39m\u001b[38;5;124m'\u001b[39m)\n",
      "File \u001b[1;32m~\\AppData\\Roaming\\Python\\Python39\\site-packages\\mysql\\connector\\cursor.py:564\u001b[0m, in \u001b[0;36mMySQLCursor.execute\u001b[1;34m(self, operation, params, multi)\u001b[0m\n\u001b[0;32m    561\u001b[0m     \u001b[38;5;28;01mreturn\u001b[39;00m \u001b[38;5;28mself\u001b[39m\u001b[38;5;241m.\u001b[39m_execute_iter(\u001b[38;5;28mself\u001b[39m\u001b[38;5;241m.\u001b[39m_connection\u001b[38;5;241m.\u001b[39mcmd_query_iter(stmt))\n\u001b[0;32m    563\u001b[0m \u001b[38;5;28;01mtry\u001b[39;00m:\n\u001b[1;32m--> 564\u001b[0m     \u001b[38;5;28mself\u001b[39m\u001b[38;5;241m.\u001b[39m_handle_result(\u001b[38;5;28;43mself\u001b[39;49m\u001b[38;5;241;43m.\u001b[39;49m\u001b[43m_connection\u001b[49m\u001b[38;5;241;43m.\u001b[39;49m\u001b[43mcmd_query\u001b[49m\u001b[43m(\u001b[49m\u001b[43mstmt\u001b[49m\u001b[43m)\u001b[49m)\n\u001b[0;32m    565\u001b[0m \u001b[38;5;28;01mexcept\u001b[39;00m InterfaceError \u001b[38;5;28;01mas\u001b[39;00m err:\n\u001b[0;32m    566\u001b[0m     \u001b[38;5;28;01mif\u001b[39;00m \u001b[38;5;28mself\u001b[39m\u001b[38;5;241m.\u001b[39m_connection\u001b[38;5;241m.\u001b[39mhave_next_result:\n",
      "File \u001b[1;32m~\\AppData\\Roaming\\Python\\Python39\\site-packages\\mysql\\connector\\connection.py:990\u001b[0m, in \u001b[0;36mMySQLConnection.cmd_query\u001b[1;34m(self, query, raw, buffered, raw_as_string)\u001b[0m\n\u001b[0;32m    988\u001b[0m query \u001b[38;5;241m=\u001b[39m \u001b[38;5;28mbytes\u001b[39m(packet)\n\u001b[0;32m    989\u001b[0m \u001b[38;5;28;01mtry\u001b[39;00m:\n\u001b[1;32m--> 990\u001b[0m     result \u001b[38;5;241m=\u001b[39m \u001b[38;5;28;43mself\u001b[39;49m\u001b[38;5;241;43m.\u001b[39;49m\u001b[43m_handle_result\u001b[49m\u001b[43m(\u001b[49m\u001b[38;5;28;43mself\u001b[39;49m\u001b[38;5;241;43m.\u001b[39;49m\u001b[43m_send_cmd\u001b[49m\u001b[43m(\u001b[49m\u001b[43mServerCmd\u001b[49m\u001b[38;5;241;43m.\u001b[39;49m\u001b[43mQUERY\u001b[49m\u001b[43m,\u001b[49m\u001b[43m \u001b[49m\u001b[43mquery\u001b[49m\u001b[43m)\u001b[49m\u001b[43m)\u001b[49m\n\u001b[0;32m    991\u001b[0m \u001b[38;5;28;01mexcept\u001b[39;00m ProgrammingError \u001b[38;5;28;01mas\u001b[39;00m err:\n\u001b[0;32m    992\u001b[0m     \u001b[38;5;28;01mif\u001b[39;00m err\u001b[38;5;241m.\u001b[39merrno \u001b[38;5;241m==\u001b[39m \u001b[38;5;241m3948\u001b[39m \u001b[38;5;129;01mand\u001b[39;00m \u001b[38;5;124m\"\u001b[39m\u001b[38;5;124mLoading local data is disabled\u001b[39m\u001b[38;5;124m\"\u001b[39m \u001b[38;5;129;01min\u001b[39;00m err\u001b[38;5;241m.\u001b[39mmsg:\n",
      "File \u001b[1;32m~\\AppData\\Roaming\\Python\\Python39\\site-packages\\mysql\\connector\\connection.py:784\u001b[0m, in \u001b[0;36mMySQLConnection._handle_result\u001b[1;34m(self, packet)\u001b[0m\n\u001b[0;32m    782\u001b[0m     \u001b[38;5;28;01mreturn\u001b[39;00m \u001b[38;5;28mself\u001b[39m\u001b[38;5;241m.\u001b[39m_handle_eof(packet)\n\u001b[0;32m    783\u001b[0m \u001b[38;5;28;01mif\u001b[39;00m packet[\u001b[38;5;241m4\u001b[39m] \u001b[38;5;241m==\u001b[39m \u001b[38;5;241m255\u001b[39m:\n\u001b[1;32m--> 784\u001b[0m     \u001b[38;5;28;01mraise\u001b[39;00m get_exception(packet)\n\u001b[0;32m    786\u001b[0m \u001b[38;5;66;03m# We have a text result set\u001b[39;00m\n\u001b[0;32m    787\u001b[0m column_count \u001b[38;5;241m=\u001b[39m \u001b[38;5;28mself\u001b[39m\u001b[38;5;241m.\u001b[39m_protocol\u001b[38;5;241m.\u001b[39mparse_column_count(packet)\n",
      "\u001b[1;31mDataError\u001b[0m: 1292 (22007): Incorrect date value: 'None' for column 'ReleaseDate' at row 1"
     ]
    }
   ],
   "source": [
    "import mysql.connector as sqltor\n",
    "mycon=sqltor.connect(host=\"localhost\",user=\"root\",passwd=\"Root@123\")\n",
    "cur = mycon.cursor()\n",
    "cur.execute('Use club')\n",
    "#cur.execute('create table movie(MovieID int, MovieName char(20), Category char(20), ReleaseDate Date, ProductionCost int, BusinessCost int)')\n",
    "\n",
    "for x in range(2):\n",
    "    stuno = input('Movie ID: ')\n",
    "    name = input('Movie Name: ')\n",
    "    game = input('Category: ')\n",
    "    grade1 = input('Release Date: ')\n",
    "    supw = input('Production Cost: ')\n",
    "    grade2 = input('Business Cost: ')\n",
    "    if grade1 == '':\n",
    "        grade1 = null\n",
    "    print('')\n",
    "    v = 'insert into movie(MovieID, MovieName, Category, ReleaseDate, ProductionCost, BusinessCost) values(\"{}\", \"{}\", \"{}\", \"{}\", \"{}\", \"{}\")'.format(stuno, name, game, grade1, supw, grade2)\n",
    "    cur.execute(v)\n",
    "    mycon.commit()\n",
    "cur.execute('select * from movie')\n",
    "for j in cur:\n",
    "    print(j)"
   ]
  },
  {
   "cell_type": "code",
   "execution_count": 11,
   "id": "d62e7aee",
   "metadata": {},
   "outputs": [
    {
     "name": "stdout",
     "output_type": "stream",
     "text": [
      "(1, 'Hindi_Movie', 'Musical', datetime.date(2018, 4, 23), 124500, 130000)\n",
      "(2, 'Tamil_Movie', 'Action', datetime.date(2016, 5, 17), 112000, 118000)\n",
      "(3, 'English_Movie', 'Horror', datetime.date(2017, 8, 6), 245000, 360000)\n",
      "(4, 'Bengali_Movie', 'Adventure', datetime.date(2017, 1, 4), 72000, 100000)\n"
     ]
    }
   ],
   "source": [
    "cur.execute('select * from movie')\n",
    "for j in cur:\n",
    "    print(j)"
   ]
  },
  {
   "cell_type": "code",
   "execution_count": 4,
   "id": "ede0be23",
   "metadata": {},
   "outputs": [
    {
     "name": "stdout",
     "output_type": "stream",
     "text": [
      "Enter name: English_Movie\n",
      "(3, 'English_Movie', 'Horror', datetime.date(2017, 8, 6), 245000, 360000)\n"
     ]
    }
   ],
   "source": [
    "cur.execute('use club')\n",
    "n = input('Enter name: ')\n",
    "s = 'select * from movie where MovieName=\"%s\"'%(n,)\n",
    "cur.execute(s)\n",
    "v = cur.fetchall()\n",
    "for j in v:\n",
    "    print(j)"
   ]
  },
  {
   "cell_type": "code",
   "execution_count": 2,
   "id": "b7132241",
   "metadata": {},
   "outputs": [
    {
     "name": "stdout",
     "output_type": "stream",
     "text": [
      "(4, 'Bengali_Movie', 'Adventure', datetime.date(2017, 1, 4), 72000, 100000, 10, 7, 'Sameer', 'Cricket', 'B', 'Photography', 'A')\n",
      "(3, 'English_Movie', 'Horror', datetime.date(2017, 8, 6), 245000, 360000, 10, 7, 'Sameer', 'Cricket', 'B', 'Photography', 'A')\n",
      "(2, 'Tamil_Movie', 'Action', datetime.date(2016, 5, 17), 112000, 118000, 10, 7, 'Sameer', 'Cricket', 'B', 'Photography', 'A')\n",
      "(1, 'Hindi_Movie', 'Musical', datetime.date(2018, 4, 23), 124500, 130000, 10, 7, 'Sameer', 'Cricket', 'B', 'Photography', 'A')\n",
      "(4, 'Bengali_Movie', 'Adventure', datetime.date(2017, 1, 4), 72000, 100000, 11, 8, 'Sujit', 'Tennis', 'A', 'Gardening', 'C')\n",
      "(3, 'English_Movie', 'Horror', datetime.date(2017, 8, 6), 245000, 360000, 11, 8, 'Sujit', 'Tennis', 'A', 'Gardening', 'C')\n",
      "(2, 'Tamil_Movie', 'Action', datetime.date(2016, 5, 17), 112000, 118000, 11, 8, 'Sujit', 'Tennis', 'A', 'Gardening', 'C')\n",
      "(1, 'Hindi_Movie', 'Musical', datetime.date(2018, 4, 23), 124500, 130000, 11, 8, 'Sujit', 'Tennis', 'A', 'Gardening', 'C')\n",
      "(4, 'Bengali_Movie', 'Adventure', datetime.date(2017, 1, 4), 72000, 100000, 12, 7, 'Kamal', 'Swimming', 'B', 'Photography', 'B')\n",
      "(3, 'English_Movie', 'Horror', datetime.date(2017, 8, 6), 245000, 360000, 12, 7, 'Kamal', 'Swimming', 'B', 'Photography', 'B')\n",
      "(2, 'Tamil_Movie', 'Action', datetime.date(2016, 5, 17), 112000, 118000, 12, 7, 'Kamal', 'Swimming', 'B', 'Photography', 'B')\n",
      "(1, 'Hindi_Movie', 'Musical', datetime.date(2018, 4, 23), 124500, 130000, 12, 7, 'Kamal', 'Swimming', 'B', 'Photography', 'B')\n",
      "(4, 'Bengali_Movie', 'Adventure', datetime.date(2017, 1, 4), 72000, 100000, 13, 7, 'Veena', 'Tennis', 'C', 'Cooking', 'A')\n",
      "(3, 'English_Movie', 'Horror', datetime.date(2017, 8, 6), 245000, 360000, 13, 7, 'Veena', 'Tennis', 'C', 'Cooking', 'A')\n",
      "(2, 'Tamil_Movie', 'Action', datetime.date(2016, 5, 17), 112000, 118000, 13, 7, 'Veena', 'Tennis', 'C', 'Cooking', 'A')\n",
      "(1, 'Hindi_Movie', 'Musical', datetime.date(2018, 4, 23), 124500, 130000, 13, 7, 'Veena', 'Tennis', 'C', 'Cooking', 'A')\n",
      "(4, 'Bengali_Movie', 'Adventure', datetime.date(2017, 1, 4), 72000, 100000, 14, 9, 'Archana', 'Basket Ball', 'A', 'Literature', 'A')\n",
      "(3, 'English_Movie', 'Horror', datetime.date(2017, 8, 6), 245000, 360000, 14, 9, 'Archana', 'Basket Ball', 'A', 'Literature', 'A')\n",
      "(2, 'Tamil_Movie', 'Action', datetime.date(2016, 5, 17), 112000, 118000, 14, 9, 'Archana', 'Basket Ball', 'A', 'Literature', 'A')\n",
      "(1, 'Hindi_Movie', 'Musical', datetime.date(2018, 4, 23), 124500, 130000, 14, 9, 'Archana', 'Basket Ball', 'A', 'Literature', 'A')\n",
      "(4, 'Bengali_Movie', 'Adventure', datetime.date(2017, 1, 4), 72000, 100000, 15, 10, 'Arpit', 'Cricket', 'A', 'Gardening', 'C')\n",
      "(3, 'English_Movie', 'Horror', datetime.date(2017, 8, 6), 245000, 360000, 15, 10, 'Arpit', 'Cricket', 'A', 'Gardening', 'C')\n",
      "(2, 'Tamil_Movie', 'Action', datetime.date(2016, 5, 17), 112000, 118000, 15, 10, 'Arpit', 'Cricket', 'A', 'Gardening', 'C')\n",
      "(1, 'Hindi_Movie', 'Musical', datetime.date(2018, 4, 23), 124500, 130000, 15, 10, 'Arpit', 'Cricket', 'A', 'Gardening', 'C')\n"
     ]
    }
   ],
   "source": [
    "import mysql.connector as sqltor\n",
    "mycon=sqltor.connect(host=\"localhost\",user=\"root\",passwd=\"Root@123\")\n",
    "cur = mycon.cursor()\n",
    "cur.execute('Use club')\n",
    "cur.execute('select * from movie natural join student')\n",
    "for j in cur:\n",
    "    print(j)"
   ]
  },
  {
   "cell_type": "code",
   "execution_count": 5,
   "id": "b3a5d36c",
   "metadata": {},
   "outputs": [],
   "source": [
    "import mysql.connector as sqltor\n",
    "mycon=sqltor.connect(host=\"localhost\",user=\"root\",passwd=\"Root@123\")\n",
    "cur = mycon.cursor()\n",
    "#cur.execute('create database organization')\n",
    "cur.execute('use organization')\n",
    "#cur.execute('create table Employee(Eid int primary key, Name char(20), Depid int, Qualification char(10), Sex char(1))')\n",
    "cur.execute('create table Salary(Eid int, Foreign key(Eid) references Employee(Eid), Basic int, DA int, HRA int, Bonus int)')"
   ]
  },
  {
   "cell_type": "code",
   "execution_count": 7,
   "id": "82f5bdd6",
   "metadata": {},
   "outputs": [
    {
     "name": "stdout",
     "output_type": "stream",
     "text": [
      "Employee ID: 1\n",
      "Employee Name: Deepali Gupta\n",
      "Dep ID: 101\n",
      "Qualification: MCA\n",
      "Sex: F\n",
      "Employee ID: 2\n",
      "Employee Name: Rajat Tyagi\n",
      "Dep ID: 101\n",
      "Qualification: BCA\n",
      "Sex: M\n",
      "Employee ID: 3\n",
      "Employee Name: Hari Mohan\n",
      "Dep ID: 102\n",
      "Qualification: B.A.\n",
      "Sex: M\n",
      "Employee ID: 4\n",
      "Employee Name: Harry\n",
      "Dep ID: 102\n",
      "Qualification: M.A.\n",
      "Sex: M\n",
      "Employee ID: 5\n",
      "Employee Name: Sumit Mital\n",
      "Dep ID: 103\n",
      "Qualification: B.Tech.\n",
      "Sex: M\n",
      "Employee ID: 6\n",
      "Employee Name: Jyoti\n",
      "Dep ID: 101\n",
      "Qualification: M.Tech.\n",
      "Sex: F\n",
      "(1, 'Deepali Gupta', 101, 'MCA', 'F')\n",
      "(2, 'Rajat Tyagi', 101, 'BCA', 'M')\n",
      "(3, 'Hari Mohan', 102, 'B.A.', 'M')\n",
      "(4, 'Harry', 102, 'M.A.', 'M')\n",
      "(5, 'Sumit Mital', 103, 'B.Tech.', 'M')\n",
      "(6, 'Jyoti', 101, 'M.Tech.', 'F')\n"
     ]
    }
   ],
   "source": [
    "for x in range(6):\n",
    "    stuno = input('Employee ID: ')\n",
    "    name = input('Employee Name: ')\n",
    "    game = input('Dep ID: ')\n",
    "    grade1 = input('Qualification: ')\n",
    "    supw = input('Sex: ')\n",
    "    \n",
    "    v = 'insert into Employee values(\"%s\", \"%s\", \"%s\", \"%s\", \"%s\")'%(stuno, name, game, grade1, supw)\n",
    "    cur.execute(v)\n",
    "    mycon.commit()\n",
    "cur.execute('select * from Employee')\n",
    "for j in cur:\n",
    "    print(j)"
   ]
  },
  {
   "cell_type": "code",
   "execution_count": 8,
   "id": "9a458a7a",
   "metadata": {},
   "outputs": [
    {
     "name": "stdout",
     "output_type": "stream",
     "text": [
      "Employee ID: 1\n",
      "Basic: 6000\n",
      "D.A.: 2000\n",
      "HRA: 2300\n",
      "Bonus: 200\n",
      "\n",
      "Employee ID: 2\n",
      "Basic: 2000\n",
      "D.A.: 300\n",
      "HRA: 300\n",
      "Bonus: 30\n",
      "\n",
      "Employee ID: 3\n",
      "Basic: 1000\n",
      "D.A.: 300\n",
      "HRA: 300\n",
      "Bonus: 40\n",
      "\n",
      "Employee ID: 4\n",
      "Basic: 1500\n",
      "D.A.: 390\n",
      "HRA: 490\n",
      "Bonus: 30\n",
      "\n",
      "Employee ID: 5\n",
      "Basic: 8000\n",
      "D.A.: 900\n",
      "HRA: 900\n",
      "Bonus: 80\n",
      "\n",
      "Employee ID: 6\n",
      "Basic: 10000\n",
      "D.A.: 300\n",
      "HRA: 490\n",
      "Bonus: 89\n",
      "\n",
      "(1, 6000, 2000, 2300, 200)\n",
      "(2, 2000, 300, 300, 30)\n",
      "(3, 1000, 300, 300, 40)\n",
      "(4, 1500, 390, 490, 30)\n",
      "(5, 8000, 900, 900, 80)\n",
      "(6, 10000, 300, 490, 89)\n"
     ]
    }
   ],
   "source": [
    "for x in range(6):\n",
    "    stuno = input('Employee ID: ')\n",
    "    name = input('Basic: ')\n",
    "    game = input('D.A.: ')\n",
    "    grade1 = input('HRA: ')\n",
    "    supw = input('Bonus: ')\n",
    "    print('')\n",
    "    v = 'insert into Salary values(\"%s\", \"%s\", \"%s\", \"%s\", \"%s\")'%(stuno, name, game, grade1, supw)\n",
    "    cur.execute(v)\n",
    "    mycon.commit()\n",
    "cur.execute('select * from Salary')\n",
    "for j in cur:\n",
    "    print(j)"
   ]
  },
  {
   "cell_type": "code",
   "execution_count": null,
   "id": "284462fb",
   "metadata": {},
   "outputs": [],
   "source": []
  }
 ],
 "metadata": {
  "kernelspec": {
   "display_name": "Python 3 (ipykernel)",
   "language": "python",
   "name": "python3"
  },
  "language_info": {
   "codemirror_mode": {
    "name": "ipython",
    "version": 3
   },
   "file_extension": ".py",
   "mimetype": "text/x-python",
   "name": "python",
   "nbconvert_exporter": "python",
   "pygments_lexer": "ipython3",
   "version": "3.9.12"
  }
 },
 "nbformat": 4,
 "nbformat_minor": 5
}
