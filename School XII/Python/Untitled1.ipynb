{
 "cells": [
  {
   "cell_type": "code",
   "execution_count": 4,
   "id": "d78bd894",
   "metadata": {},
   "outputs": [
    {
     "name": "stdout",
     "output_type": "stream",
     "text": [
      "[4, 6, 1, 1, 1, 2, 2, 2, 2, 3, 3, 5, 5]\n"
     ]
    }
   ],
   "source": [
    "l = [1,2,3,2,4,1,5,5,6,3,2,1,2]\n",
    "l.sort()\n",
    "d = {}\n",
    "for i in l:\n",
    "    if i in d:\n",
    "        d[i] = d[i]+1\n",
    "    else:\n",
    "        d[i] = 1\n",
    "l1 = []\n",
    "for j in d:\n",
    "    if d[j] == 1:\n",
    "        l1.append(j)\n",
    "for x in d:\n",
    "    if d[x]>1:\n",
    "        y = [x]*d[x]\n",
    "        l1 = l1+y\n",
    "print(l1)"
   ]
  },
  {
   "cell_type": "code",
   "execution_count": 7,
   "id": "5555439a",
   "metadata": {},
   "outputs": [
    {
     "data": {
      "text/plain": [
       "list"
      ]
     },
     "execution_count": 7,
     "metadata": {},
     "output_type": "execute_result"
    }
   ],
   "source": [
    "t = (l1)\n",
    "type(t)"
   ]
  },
  {
   "cell_type": "code",
   "execution_count": 8,
   "id": "39d37a74",
   "metadata": {},
   "outputs": [
    {
     "name": "stdout",
     "output_type": "stream",
     "text": [
      "1\n",
      "3\n",
      "5\n"
     ]
    }
   ],
   "source": [
    "d = {1:2,3:4,5:6}\n",
    "for i in d:\n",
    "    print(i)"
   ]
  },
  {
   "cell_type": "code",
   "execution_count": 3,
   "id": "4be6637e",
   "metadata": {},
   "outputs": [
    {
     "name": "stdout",
     "output_type": "stream",
     "text": [
      "['saturday', 'friday', 'thursday', 'wednesday', 'tuesday', 'monday']\n"
     ]
    }
   ],
   "source": [
    "#there is a list containing days starting from sunday\n",
    "#wap to enter any msg as input, print the input without vowels and then replace space with hyphen\n",
    "l = ['sunday','monday','tuesday','wednesday','thursday','friday','saturday']\n",
    "l1 = []\n",
    "for i in range(len(l)-1,0,-1):\n",
    "    l1.append(l[i])\n",
    "print(l1)\n"
   ]
  },
  {
   "cell_type": "code",
   "execution_count": 12,
   "id": "e20f1837",
   "metadata": {},
   "outputs": [
    {
     "name": "stdout",
     "output_type": "stream",
     "text": [
      "Enter input: hi me he she\n",
      "a\n",
      "e\n",
      "i\n",
      "o\n",
      "u\n",
      "h me he she\n",
      "h-me-he-she\n"
     ]
    }
   ],
   "source": [
    "x = input('Enter input: ')\n",
    "y = ['a','e','i','o','u']\n",
    "for j in y:\n",
    "    print(j)\n",
    "    if j in x:\n",
    "        z = x.replace(j,'')\n",
    "print(z)\n",
    "if ' ' in z:\n",
    "    a = z.replace(' ','-')\n",
    "    print(a)"
   ]
  },
  {
   "cell_type": "code",
   "execution_count": 1,
   "id": "13f3f45d",
   "metadata": {},
   "outputs": [
    {
     "name": "stdout",
     "output_type": "stream",
     "text": [
      "*\n",
      "**\n",
      "***\n",
      "****\n",
      "*****\n"
     ]
    }
   ],
   "source": [
    "#input a welcome message and display it\n",
    "#input two numbers and display the larger/smaller number\n",
    "#input three numbers and display the smallest/largest number\n",
    "#generate the following patterns\n",
    "\n",
    "for i in range(1,6):\n",
    "    print('*'*i)"
   ]
  },
  {
   "cell_type": "code",
   "execution_count": 9,
   "id": "764928bf",
   "metadata": {},
   "outputs": [
    {
     "name": "stdout",
     "output_type": "stream",
     "text": [
      "Enter number of terms: 10\n",
      "1 2 3 5 8 13 21 34 55 89 "
     ]
    }
   ],
   "source": [
    "n = int(input('Enter number of terms: '))\n",
    "\n",
    "y = 0\n",
    "x = 1\n",
    "\n",
    "for i in range(n):\n",
    "    z = x+y\n",
    "    print(z,end=' ')\n",
    "    y = x\n",
    "    x = z\n",
    "    "
   ]
  },
  {
   "cell_type": "code",
   "execution_count": 10,
   "id": "24e5e6a2",
   "metadata": {},
   "outputs": [
    {
     "name": "stdout",
     "output_type": "stream",
     "text": [
      "Hello world\n"
     ]
    }
   ],
   "source": [
    "print(\"Hello world\")"
   ]
  },
  {
   "cell_type": "code",
   "execution_count": null,
   "id": "50285b7f",
   "metadata": {},
   "outputs": [],
   "source": []
  },
  {
   "cell_type": "code",
   "execution_count": 14,
   "id": "fa0364d8",
   "metadata": {},
   "outputs": [
    {
     "name": "stdout",
     "output_type": "stream",
     "text": [
      "Enter school name:Delhi Public School\n",
      "Delhi Public School\n",
      "19\n",
      "Delhi Public School\n",
      "Delhi Public School\n",
      "Delhi Public School\n",
      "Delhi Public School\n",
      "Delhi Public School\n",
      "Delhi Public School\n",
      "Delhi Public School\n",
      "Delhi Public School\n",
      "Delhi Public School\n",
      "Delhi Public School\n",
      "Delhi Public School\n",
      "Delhi Public School\n",
      "Delhi Public School\n",
      "Delhi Public School\n",
      "Delhi Public School\n",
      "Delhi Public School\n",
      "Delhi Public School\n",
      "Delhi Public School\n",
      "Delhi Public School\n"
     ]
    }
   ],
   "source": [
    "a=input(\"Enter school name:\")\n",
    "print(a)\n",
    "print(len(a))\n",
    "for i in range(len(a)):\n",
    "    print(a)"
   ]
  },
  {
   "cell_type": "code",
   "execution_count": null,
   "id": "214c5950",
   "metadata": {},
   "outputs": [],
   "source": [
    "c=['a','e','i','o','u']\n",
    "l=input(\"Enter a sentence:\")\n",
    "\n"
   ]
  }
 ],
 "metadata": {
  "kernelspec": {
   "display_name": "Python 3 (ipykernel)",
   "language": "python",
   "name": "python3"
  },
  "language_info": {
   "codemirror_mode": {
    "name": "ipython",
    "version": 3
   },
   "file_extension": ".py",
   "mimetype": "text/x-python",
   "name": "python",
   "nbconvert_exporter": "python",
   "pygments_lexer": "ipython3",
   "version": "3.11.7"
  }
 },
 "nbformat": 4,
 "nbformat_minor": 5
}
