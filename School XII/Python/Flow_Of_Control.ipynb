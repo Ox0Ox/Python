{
 "cells": [
  {
   "cell_type": "code",
   "execution_count": 4,
   "id": "dc2a862f",
   "metadata": {
    "collapsed": true
   },
   "outputs": [
    {
     "name": "stdout",
     "output_type": "stream",
     "text": [
      "Enter a number: 45\n",
      "Your number is odd\n",
      "\n",
      "Enter a number: 9765735325345265\n",
      "Your number is odd\n",
      "\n",
      "Enter a number: 235365452\n",
      "Your number is even\n",
      "\n",
      "Enter a number: 2342545\n",
      "Your number is odd\n",
      "\n",
      "Enter a number: 23423\n",
      "Your number is odd\n",
      "\n"
     ]
    }
   ],
   "source": [
    "try:\n",
    "    for i in range(5):\n",
    "        x = eval(input('Enter a number: '))\n",
    "        if x%2 == 0:\n",
    "            print('Your number is even')\n",
    "            print('')\n",
    "        else:\n",
    "            print('Your number is odd')\n",
    "            print('')\n",
    "except NameError:\n",
    "    print('Invalid input')"
   ]
  },
  {
   "cell_type": "code",
   "execution_count": 5,
   "id": "0dad6e31",
   "metadata": {},
   "outputs": [
    {
     "name": "stdout",
     "output_type": "stream",
     "text": [
      "Enter a number: 123\n",
      "Your number is positive.\n",
      "Enter a number: -5555\n",
      "Your number is negative.\n",
      "Enter a number: -7564\n",
      "Your number is negative.\n",
      "Enter a number: 0\n",
      "Your number is zero\n",
      "\n",
      "Enter a number: 34\n",
      "Your number is positive.\n"
     ]
    }
   ],
   "source": [
    "try:\n",
    "    for i in range(5):\n",
    "        y = eval(input('Enter a number: '))\n",
    "        if y == 0:\n",
    "            print('Your number is zero')\n",
    "            print('')\n",
    "        elif y>0:\n",
    "            print('Your number is positive.')\n",
    "        elif y<0:\n",
    "            print('Your number is negative.')\n",
    "except NameError:\n",
    "    print('Invalid input')"
   ]
  },
  {
   "cell_type": "code",
   "execution_count": 13,
   "id": "0dc71496",
   "metadata": {},
   "outputs": [
    {
     "name": "stdout",
     "output_type": "stream",
     "text": [
      "Please enter the number for which you want the factorial: 10\n",
      "The factorial of 10 is 3628800\n"
     ]
    }
   ],
   "source": [
    "try:\n",
    "    n = int(input('Please enter the number for which you want the factorial: '))\n",
    "    fact = 1\n",
    "    for i in range(1,n+1):\n",
    "        fact = fact*i\n",
    "    print('The factorial of',n,'is',fact)\n",
    "except ValueError:\n",
    "    print('Invalid input. Please enter integers only')"
   ]
  },
  {
   "cell_type": "code",
   "execution_count": 5,
   "id": "1bd15e6c",
   "metadata": {},
   "outputs": [
    {
     "name": "stdout",
     "output_type": "stream",
     "text": [
      "Enter a number: 12345\n",
      "54321\n"
     ]
    }
   ],
   "source": [
    "z = int(input('Enter a number: '))\n",
    "s = 0\n",
    "while z>0:\n",
    "    digit = z%10\n",
    "    s = (s*10)+digit\n",
    "    z = z//10\n",
    "print(s)"
   ]
  },
  {
   "cell_type": "code",
   "execution_count": null,
   "id": "19ee0856",
   "metadata": {},
   "outputs": [],
   "source": []
  },
  {
   "cell_type": "code",
   "execution_count": null,
   "id": "353d3c8a",
   "metadata": {},
   "outputs": [],
   "source": []
  },
  {
   "cell_type": "code",
   "execution_count": null,
   "id": "5799d825",
   "metadata": {},
   "outputs": [],
   "source": []
  }
 ],
 "metadata": {
  "kernelspec": {
   "display_name": "Python 3 (ipykernel)",
   "language": "python",
   "name": "python3"
  },
  "language_info": {
   "codemirror_mode": {
    "name": "ipython",
    "version": 3
   },
   "file_extension": ".py",
   "mimetype": "text/x-python",
   "name": "python",
   "nbconvert_exporter": "python",
   "pygments_lexer": "ipython3",
   "version": "3.9.12"
  }
 },
 "nbformat": 4,
 "nbformat_minor": 5
}
