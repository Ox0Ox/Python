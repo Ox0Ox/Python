{
 "cells": [
  {
   "cell_type": "code",
   "execution_count": 3,
   "id": "74405a2d",
   "metadata": {},
   "outputs": [
    {
     "name": "stdout",
     "output_type": "stream",
     "text": [
      "Welcome to local hack!\n",
      "Enter MAC ID: HW167640\n",
      "Hacking HW167640 ...\n",
      "Acquiring Data...\n",
      "Injecting Hotstream...\n",
      "Cracking Network...\n",
      "Connecting to server...\n",
      "Working...\n",
      "Hack Complete!\n"
     ]
    }
   ],
   "source": [
    "print('Welcome to local hack!')\n",
    "n = input('Enter MAC ID: ')\n",
    "print('Hacking', n,'...')\n",
    "print('Acquiring Data...')\n",
    "print('Injecting Hotstream...')\n",
    "print('Cracking Network...')\n",
    "print('Connecting to server...')\n",
    "print('Working...')\n",
    "print('Hack Complete!')"
   ]
  },
  {
   "cell_type": "code",
   "execution_count": null,
   "id": "878ff77b",
   "metadata": {},
   "outputs": [],
   "source": []
  }
 ],
 "metadata": {
  "kernelspec": {
   "display_name": "Python 3 (ipykernel)",
   "language": "python",
   "name": "python3"
  },
  "language_info": {
   "codemirror_mode": {
    "name": "ipython",
    "version": 3
   },
   "file_extension": ".py",
   "mimetype": "text/x-python",
   "name": "python",
   "nbconvert_exporter": "python",
   "pygments_lexer": "ipython3",
   "version": "3.9.12"
  }
 },
 "nbformat": 4,
 "nbformat_minor": 5
}
