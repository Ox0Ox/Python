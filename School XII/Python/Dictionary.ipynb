{
 "cells": [
  {
   "cell_type": "code",
   "execution_count": 17,
   "id": "a8955452",
   "metadata": {},
   "outputs": [
    {
     "name": "stdout",
     "output_type": "stream",
     "text": [
      "Naruto\n",
      "Naruto\n"
     ]
    }
   ],
   "source": [
    "d = {}\n",
    "l = ['Naruto','Luffy','Zoro']\n",
    "d = {1:l,2:'Sharan',3:'Nived'}\n",
    "print(d[1][0])\n",
    "print(l[0])"
   ]
  },
  {
   "cell_type": "code",
   "execution_count": 28,
   "id": "921e4a88",
   "metadata": {},
   "outputs": [
    {
     "name": "stdout",
     "output_type": "stream",
     "text": [
      "Enter number of values you want to enter: 2\n",
      "Enter roll number: 13\n",
      "Enter Name: Harsh\n",
      "Enter age: 16\n",
      "Enter physics marks: 99\n",
      "Enter chemistry marks: 99\n",
      "Enter math marks: 99\n",
      "\n",
      "Enter roll number: 16\n",
      "Enter Name: Hari\n",
      "Enter age: 16\n",
      "Enter physics marks: 89\n",
      "Enter chemistry marks: 89\n",
      "Enter math marks: 89\n",
      "\n",
      "{13: ['Harsh', 16, 'phys:', 99, 'chem:', 99, 'math:', 99], 16: ['Hari', 16, 'phys:', 89, 'chem:', 89, 'math:', 89]}\n",
      "Enter key: 16\n",
      "Hari\n"
     ]
    }
   ],
   "source": [
    "l1 = []\n",
    "d={}\n",
    "no = int(input('Enter number of values you want to enter: '))\n",
    "for i in range(no):\n",
    "    roll = int(input('Enter roll number: '))\n",
    "    n = str(input('Enter Name: '))\n",
    "    age = eval(input('Enter age: '))\n",
    "    phys = eval(input('Enter physics marks: '))\n",
    "    chem = eval(input('Enter chemistry marks: '))\n",
    "    math = eval(input('Enter math marks: '))\n",
    "    print('')\n",
    "    l = [n,age,'phys:',phys,'chem:',chem,'math:',math]\n",
    "    d.update({roll:l})\n",
    "print(d)"
   ]
  },
  {
   "cell_type": "code",
   "execution_count": 30,
   "id": "c8d29c30",
   "metadata": {},
   "outputs": [
    {
     "name": "stdout",
     "output_type": "stream",
     "text": [
      "Enter key: 16\n",
      "phys:\n"
     ]
    }
   ],
   "source": [
    "# A persom likes 3 books to read, store name of person and the books he likes\n",
    "\n",
    "w = int(input('Enter key: '))\n",
    "print(d[w][2])"
   ]
  },
  {
   "cell_type": "code",
   "execution_count": 6,
   "id": "a7f244df",
   "metadata": {},
   "outputs": [
    {
     "name": "stdout",
     "output_type": "stream",
     "text": [
      "99\n"
     ]
    }
   ],
   "source": [
    "d1= {'ID':[1,2,3],'Name': ['a','b','c'],'Marks': [99,89.92]}\n",
    "print(d1['Marks'][0])\n"
   ]
  },
  {
   "cell_type": "code",
   "execution_count": 7,
   "id": "94358860",
   "metadata": {},
   "outputs": [
    {
     "name": "stdout",
     "output_type": "stream",
     "text": [
      "A : 1\n",
      "B : 2\n"
     ]
    }
   ],
   "source": [
    "dict1 = {'A':{'ID':1, 'Address':\"Bangalore\", 'Grade':11}, 'B':{'ID':2, 'Address':\"Dhaka\", 'Grade':12}}\n",
    "for x in dict1:\n",
    "    print(x,':',dict1[x]['ID'])"
   ]
  },
  {
   "cell_type": "code",
   "execution_count": 1,
   "id": "8d94002b",
   "metadata": {},
   "outputs": [
    {
     "name": "stdout",
     "output_type": "stream",
     "text": [
      "Enter roll number: 1\n",
      "Enter Name: kb\n",
      "Enter age: 16\n",
      "Enter physics marks: 99\n",
      "Enter chemistry marks: 99.5\n",
      "Enter math marks: 90\n",
      "\n",
      "Enter roll number: 2\n",
      "Enter Name: lol\n",
      "Enter age: 16\n",
      "Enter physics marks: 97\n",
      "Enter chemistry marks: 89.5\n",
      "Enter math marks: 100\n",
      "\n",
      "Enter roll number: 3\n",
      "Enter Name: suresh\n",
      "Enter age: 17\n",
      "Enter physics marks: 19\n",
      "Enter chemistry marks: 10\n",
      "Enter math marks: 19\n",
      "\n",
      "Enter roll number: 16\n",
      "Enter Name: ha\n",
      "Enter age: 99\n",
      "Enter physics marks: 99\n",
      "Enter chemistry marks: 100\n",
      "Enter math marks: 80\n",
      "\n",
      "Enter roll number: 19\n",
      "Enter Name: lel\n",
      "Enter age: 18\n",
      "Enter physics marks: 0\n",
      "Enter chemistry marks: 0.5\n",
      "Enter math marks: 0.25\n",
      "\n",
      "{1: ['kb', 16, 'phys:', 99, 'chem:', 99.5, 'math:', 90], 2: ['lol', 16, 'phys:', 97, 'chem:', 89.5, 'math:', 100], 3: ['suresh', 17, 'phys:', 19, 'chem:', 10, 'math:', 19], 16: ['ha', 99, 'phys:', 99, 'chem:', 100, 'math:', 80], 19: ['lel', 18, 'phys:', 0, 'chem:', 0.5, 'math:', 0.25]}\n"
     ]
    }
   ],
   "source": [
    "#WAP to create a dict to store roll and marks of 5 students, enter a roll no. and search if it exists in the dictionary or not\n",
    "dict2 = {}\n",
    "for i in range(5):\n",
    "    roll = int(input('Enter roll number: '))\n",
    "    n = str(input('Enter Name: '))\n",
    "    age = eval(input('Enter age: '))\n",
    "    phys = eval(input('Enter physics marks: '))\n",
    "    chem = eval(input('Enter chemistry marks: '))\n",
    "    math = eval(input('Enter math marks: '))\n",
    "    print('')\n",
    "    l = [n,age,'phys:',phys,'chem:',chem,'math:',math]\n",
    "    dict2.update({roll:l})\n",
    "print(dict2)"
   ]
  },
  {
   "cell_type": "code",
   "execution_count": 8,
   "id": "ece63dcc",
   "metadata": {},
   "outputs": [
    {
     "name": "stdout",
     "output_type": "stream",
     "text": [
      "Enter roll no. you want to search: 2\n",
      "roll no. 2 : ['lol', 16, 'phys:', 97, 'chem:', 89.5, 'math:', 100]\n"
     ]
    }
   ],
   "source": [
    "search = int(input('Enter roll no. you want to search: '))\n",
    "for y in dict2:\n",
    "    if search == y:\n",
    "        print('roll no.',y,':',dict2[y])\n",
    "        break\n",
    "else:\n",
    "    print('Roll no. not found')"
   ]
  },
  {
   "cell_type": "code",
   "execution_count": 25,
   "id": "c797465d",
   "metadata": {},
   "outputs": [
    {
     "name": "stdout",
     "output_type": "stream",
     "text": [
      "{1: 'a', 2: 'b', 3: 'c'}\n",
      "(3, 'c')\n"
     ]
    }
   ],
   "source": [
    "d = {1:'a',2:'b',3:'c'}\n",
    "print(d)\n",
    "x = d.popitem()\n",
    "print(x)"
   ]
  },
  {
   "cell_type": "code",
   "execution_count": 42,
   "id": "8bc01f97",
   "metadata": {},
   "outputs": [
    {
     "name": "stdout",
     "output_type": "stream",
     "text": [
      "{'cd': 'k', 'chidori': 'l'}\n"
     ]
    }
   ],
   "source": [
    "x = dict(cd='k',chidori='l')\n",
    "print(x)\n"
   ]
  },
  {
   "cell_type": "code",
   "execution_count": 53,
   "id": "7183ffc8",
   "metadata": {},
   "outputs": [
    {
     "name": "stdout",
     "output_type": "stream",
     "text": [
      "{'id': 101, 'age': 23, 'name': 'Jay'}\n"
     ]
    }
   ],
   "source": [
    "x1 = dict(zip(('id','age','name'),(101,23,'Jay')))\n",
    "print(x1)"
   ]
  },
  {
   "cell_type": "code",
   "execution_count": 55,
   "id": "55025eec",
   "metadata": {},
   "outputs": [
    {
     "name": "stdout",
     "output_type": "stream",
     "text": [
      "{2: (6, 7, 8), 3: (6, 7, 8)}\n"
     ]
    }
   ],
   "source": [
    "x2 = dict.fromkeys((2,3),(6,7,8))\n",
    "print(x2)"
   ]
  },
  {
   "cell_type": "code",
   "execution_count": 30,
   "id": "cffa677f",
   "metadata": {},
   "outputs": [
    {
     "name": "stdout",
     "output_type": "stream",
     "text": [
      "{1: 'a', 2: 'n', 10: 'c'}\n",
      "{1: 'a', 2: 'n', 10: 'c'}\n",
      "{1: 'l', 2: 'm', 10: 'c', 7: 6}\n",
      "[1, 2, 7, 10]\n",
      "dict_values(['l', 'm', 'c', 6])\n"
     ]
    }
   ],
   "source": [
    "dd = {1:'a',2:'n'}\n",
    "dd.setdefault(10,'c')\n",
    "print(dd)\n",
    "dd.setdefault(2,'x')\n",
    "print(dd)\n",
    "k = {1:'l',2:'m',7:6}\n",
    "dd.update(k)\n",
    "print(dd)\n",
    "y1 = sorted(dd)\n",
    "print(y1)\n",
    "print(dd.values())"
   ]
  },
  {
   "cell_type": "code",
   "execution_count": 33,
   "id": "5ab51a14",
   "metadata": {},
   "outputs": [
    {
     "name": "stdout",
     "output_type": "stream",
     "text": [
      "[0, 1, 2, 4, 5, 6, 8, 9, 65]\n"
     ]
    }
   ],
   "source": [
    "t = (1,2,9,8,5,4,6,0,65)\n",
    "tt = sorted(t)\n",
    "print(tt)"
   ]
  },
  {
   "cell_type": "code",
   "execution_count": 12,
   "id": "784bf29d",
   "metadata": {},
   "outputs": [
    {
     "name": "stdout",
     "output_type": "stream",
     "text": [
      "Enter number of values you want to enter: 2\n",
      "\n",
      "Enter roll number: 1\n",
      "Enter Name: h\n",
      "Enter age: 7\n",
      "Enter salary: 7\n",
      "\n",
      "Enter roll number: 2\n",
      "Enter Name: j\n",
      "Enter age: 7\n",
      "Enter salary: 7\n",
      "\n",
      "1 : ['h', 7, 7]\n",
      "2 : ['j', 7, 7]\n"
     ]
    }
   ],
   "source": [
    "#enter names of employess and salary as input and store in a dictionary\n",
    "\n",
    "#import json\n",
    "l1 = []\n",
    "d={}\n",
    "num = int(input('Enter number of values you want to enter: '))\n",
    "print('')\n",
    "for i in range(num):\n",
    "    roll = int(input('Enter roll number: '))\n",
    "    n = str(input('Enter Name: '))\n",
    "    age = eval(input('Enter age: '))\n",
    "    sal = eval(input('Enter salary: '))\n",
    "    print('')\n",
    "    l1 = [n,age,sal]\n",
    "    d.update({roll:l1})\n",
    "    \n",
    "#dictjson = json.load(d)\n",
    "for i in d:\n",
    "    print(i,':',d[i])\n",
    "#print(d)"
   ]
  },
  {
   "cell_type": "code",
   "execution_count": 2,
   "id": "e86049f8",
   "metadata": {},
   "outputs": [
    {
     "name": "stdout",
     "output_type": "stream",
     "text": [
      "Enter number of values you want to enter: 5\n",
      "\n",
      "Enter Product Name: bat\n",
      "Enter Price: 10000\n",
      "\n"
     ]
    },
    {
     "ename": "NameError",
     "evalue": "name 'roll' is not defined",
     "output_type": "error",
     "traceback": [
      "\u001b[1;31m---------------------------------------------------------------------------\u001b[0m",
      "\u001b[1;31mNameError\u001b[0m                                 Traceback (most recent call last)",
      "Input \u001b[1;32mIn [2]\u001b[0m, in \u001b[0;36m<cell line: 5>\u001b[1;34m()\u001b[0m\n\u001b[0;32m      9\u001b[0m \u001b[38;5;28mprint\u001b[39m(\u001b[38;5;124m'\u001b[39m\u001b[38;5;124m'\u001b[39m)\n\u001b[0;32m     10\u001b[0m l1 \u001b[38;5;241m=\u001b[39m [n,price]\n\u001b[1;32m---> 11\u001b[0m d\u001b[38;5;241m.\u001b[39mupdate({\u001b[43mroll\u001b[49m:l1})\n",
      "\u001b[1;31mNameError\u001b[0m: name 'roll' is not defined"
     ]
    }
   ],
   "source": [
    "l1 = []\n",
    "d={}\n",
    "num = int(input('Enter number of values you want to enter: '))\n",
    "print('')\n",
    "for i in range(num):\n",
    "    n = str(input('Enter Product Name: '))\n",
    "    n = n.lower()\n",
    "    price = eval(input('Enter Price: '))\n",
    "    print('')\n",
    "    l1 = [n,price]\n",
    "    d.update({roll:l1})\n"
   ]
  },
  {
   "cell_type": "code",
   "execution_count": 1,
   "id": "8f43fa31",
   "metadata": {},
   "outputs": [
    {
     "name": "stdout",
     "output_type": "stream",
     "text": [
      "Do you want to search a product?(y/n): y\n",
      "Enter a product namebat\n"
     ]
    },
    {
     "ename": "NameError",
     "evalue": "name 'd' is not defined",
     "output_type": "error",
     "traceback": [
      "\u001b[1;31m---------------------------------------------------------------------------\u001b[0m",
      "\u001b[1;31mNameError\u001b[0m                                 Traceback (most recent call last)",
      "Input \u001b[1;32mIn [1]\u001b[0m, in \u001b[0;36m<cell line: 2>\u001b[1;34m()\u001b[0m\n\u001b[0;32m      2\u001b[0m \u001b[38;5;28;01mwhile\u001b[39;00m flag \u001b[38;5;241m==\u001b[39m \u001b[38;5;124m'\u001b[39m\u001b[38;5;124my\u001b[39m\u001b[38;5;124m'\u001b[39m:\n\u001b[0;32m      3\u001b[0m     search \u001b[38;5;241m=\u001b[39m \u001b[38;5;28minput\u001b[39m(\u001b[38;5;124m'\u001b[39m\u001b[38;5;124mEnter a product name\u001b[39m\u001b[38;5;124m'\u001b[39m)\n\u001b[1;32m----> 4\u001b[0m     \u001b[38;5;28;01mfor\u001b[39;00m y \u001b[38;5;129;01min\u001b[39;00m \u001b[43md\u001b[49m:\n\u001b[0;32m      5\u001b[0m         \u001b[38;5;28;01mif\u001b[39;00m search \u001b[38;5;241m==\u001b[39m y:\n\u001b[0;32m      6\u001b[0m             \u001b[38;5;28mprint\u001b[39m(\u001b[38;5;124m'\u001b[39m\u001b[38;5;124mProduct:\u001b[39m\u001b[38;5;124m'\u001b[39m,y,\u001b[38;5;124m'\u001b[39m\u001b[38;5;124m:\u001b[39m\u001b[38;5;124m'\u001b[39m,d[y])\n",
      "\u001b[1;31mNameError\u001b[0m: name 'd' is not defined"
     ]
    }
   ],
   "source": [
    "\n",
    "flag = input('Do you want to search a product?(y/n): ')\n",
    "while flag == 'y':\n",
    "    search = input('Enter a product name')\n",
    "    for y in d:\n",
    "        if search == y:\n",
    "            print('Product:',y,':',d[y])\n",
    "            break\n",
    "    else:\n",
    "        print('Product not found')\n",
    "    flag = input('Do you want to search another product?(y/n): ')\n",
    "else:\n",
    "    print('Ok, thank you for coming, visit again')"
   ]
  },
  {
   "cell_type": "code",
   "execution_count": null,
   "id": "abd06e54",
   "metadata": {},
   "outputs": [],
   "source": []
  }
 ],
 "metadata": {
  "kernelspec": {
   "display_name": "Python 3 (ipykernel)",
   "language": "python",
   "name": "python3"
  },
  "language_info": {
   "codemirror_mode": {
    "name": "ipython",
    "version": 3
   },
   "file_extension": ".py",
   "mimetype": "text/x-python",
   "name": "python",
   "nbconvert_exporter": "python",
   "pygments_lexer": "ipython3",
   "version": "3.11.7"
  }
 },
 "nbformat": 4,
 "nbformat_minor": 5
}
