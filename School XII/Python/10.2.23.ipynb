{
 "cells": [
  {
   "cell_type": "code",
   "execution_count": 6,
   "id": "e3f36aa1",
   "metadata": {},
   "outputs": [
    {
     "name": "stdout",
     "output_type": "stream",
     "text": [
      "Enter number of values you want to enter: 5\n",
      "Enter roll number: 1\n",
      "Enter Name: sd\n",
      "\n",
      "Enter roll number: 2\n",
      "Enter Name: hdf\n",
      "\n",
      "Enter roll number: 3\n",
      "Enter Name: asdf\n",
      "\n",
      "Enter roll number: 4\n",
      "Enter Name: sdf\n",
      "\n",
      "Enter roll number: 5\n",
      "Enter Name: dfh\n",
      "\n",
      "dict_values(['sd', 'hdf', 'asdf', 'sdf', 'dfh'])\n"
     ]
    }
   ],
   "source": [
    "d={}\n",
    "no = int(input('Enter number of values you want to enter: '))\n",
    "for i in range(no):\n",
    "    roll = int(input('Enter roll number: '))\n",
    "    n = str(input('Enter Name: '))\n",
    "    print('')\n",
    "    d.update({roll:n})\n",
    "print(d.values())"
   ]
  },
  {
   "cell_type": "code",
   "execution_count": 13,
   "id": "32f4a788",
   "metadata": {},
   "outputs": [
    {
     "name": "stdout",
     "output_type": "stream",
     "text": [
      "[19, 56, 76, 100, 120]\n",
      "[16, 20, 34, 80, 91]\n",
      "[16, 19, 20, 34, 56, 76, 80, 91, 100, 120]\n"
     ]
    }
   ],
   "source": [
    "a = [120,100,76,56,19]\n",
    "b = [34,91,80,16,20]\n",
    "\n",
    "x = len(a)\n",
    "\n",
    "for i in range(len(a)):\n",
    "    for j in range(i + 1, len(a)):\n",
    "\n",
    "        if a[i] > a[j]:\n",
    "            a[i], a[j] = a[j], a[i]\n",
    "for i in range(len(b)):\n",
    "    for j in range(i + 1, len(b)):\n",
    "\n",
    "        if b[i] > b[j]:\n",
    "            b[i], b[j] = b[j], b[i]\n",
    "\n",
    "print(a)\n",
    "print(b)\n",
    "ab = a+b\n",
    "\n",
    "for i in range(len(ab)):\n",
    "    for j in range(i + 1, len(ab)):\n",
    "\n",
    "        if ab[i] > ab[j]:\n",
    "            ab[i], ab[j] = ab[j], ab[i]\n",
    "            \n",
    "print(ab)"
   ]
  },
  {
   "cell_type": "code",
   "execution_count": 14,
   "id": "cd52627e",
   "metadata": {},
   "outputs": [
    {
     "name": "stdout",
     "output_type": "stream",
     "text": [
      "{0: 1, 10: 2, 11: 2, 12: 1, 21: 1, 32: 2, 34: 2, 56: 1}\n",
      "[0, 12, 21, 56]\n"
     ]
    }
   ],
   "source": [
    "L = [12,21,34,34,56,11,32,11,32,10,10,0]\n",
    "L.sort()\n",
    "d = {}\n",
    "for i in L:\n",
    "    if i in d:\n",
    "        d[i] = d[i]+1\n",
    "    else:\n",
    "        d[i] = 1\n",
    "print(d)\n",
    "\n",
    "L1 = []\n",
    "for j in d:\n",
    "    if d[j] == 1:\n",
    "        L1.append(j)\n",
    "        \n",
    "print(L1)"
   ]
  },
  {
   "cell_type": "code",
   "execution_count": 1,
   "id": "1e7c0639",
   "metadata": {},
   "outputs": [
    {
     "name": "stdout",
     "output_type": "stream",
     "text": [
      "50 56\n",
      "50 56\n",
      "First string is longer\n"
     ]
    }
   ],
   "source": [
    "str1 = 'ajbhsdfdogdoi doid oisdfhgjidshgo;ih dg;iohdig hsd'\n",
    "str2 = 'lijshfiuyrgiurnsvuipgiushd gusrghsr tgsehuehg87e gg rh u'\n",
    "\n",
    "d1 = {}\n",
    "d2 = {}\n",
    "for i in str1:\n",
    "    if i in d1:\n",
    "        d1[i] = d1[i]+1\n",
    "    else:\n",
    "        d1[i] = 1\n",
    "\n",
    "sum1 = 0\n",
    "for j in d1:\n",
    "    sum1 = sum1 + d1[j]\n",
    "    \n",
    "for i in str2:\n",
    "    if i in d2:\n",
    "        d2[i] = d2[i]+1\n",
    "    else:\n",
    "        d2[i] = 1\n",
    "\n",
    "sum2 = 0\n",
    "for j in d2:\n",
    "    sum2 = sum2 + d2[j]\n",
    "\n",
    "print(len(str1),len(str2))\n",
    "print(sum1,sum2)\n",
    "\n",
    "if sum1 == sum2:\n",
    "    print('They are equal')\n",
    "if sum1<sum2:\n",
    "    print('First string is longer')\n",
    "else:\n",
    "    print('Second string is longer')"
   ]
  },
  {
   "cell_type": "code",
   "execution_count": 2,
   "id": "f1ba9ba8",
   "metadata": {},
   "outputs": [
    {
     "name": "stdout",
     "output_type": "stream",
     "text": [
      "abcd123\n"
     ]
    }
   ],
   "source": [
    "x = ''\n",
    "l = ['a','b','c','d',1,2,3]\n",
    "for i in l:\n",
    "    i = str(i)\n",
    "    x = x + i\n",
    "print(x)"
   ]
  },
  {
   "cell_type": "code",
   "execution_count": null,
   "id": "7649aa52",
   "metadata": {},
   "outputs": [],
   "source": []
  }
 ],
 "metadata": {
  "kernelspec": {
   "display_name": "Python 3 (ipykernel)",
   "language": "python",
   "name": "python3"
  },
  "language_info": {
   "codemirror_mode": {
    "name": "ipython",
    "version": 3
   },
   "file_extension": ".py",
   "mimetype": "text/x-python",
   "name": "python",
   "nbconvert_exporter": "python",
   "pygments_lexer": "ipython3",
   "version": "3.9.12"
  }
 },
 "nbformat": 4,
 "nbformat_minor": 5
}
