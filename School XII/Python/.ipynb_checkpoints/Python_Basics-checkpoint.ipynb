{
 "cells": [
  {
   "cell_type": "code",
   "execution_count": 2,
   "id": "0fc17610",
   "metadata": {},
   "outputs": [
    {
     "name": "stdout",
     "output_type": "stream",
     "text": [
      "<class 'int'>\n",
      "<class 'str'>\n",
      "2182948276848\n",
      "<class 'str'>\n",
      "2182948276848\n"
     ]
    }
   ],
   "source": [
    "a = 314\n",
    "print(type(a))\n",
    "a = 'str'\n",
    "print(type(a))\n",
    "print(id(a))\n",
    "b = 'str'\n",
    "print(type(b))\n",
    "print(id(b))"
   ]
  },
  {
   "cell_type": "code",
   "execution_count": 9,
   "id": "7d044d9a",
   "metadata": {
    "scrolled": true
   },
   "outputs": [
    {
     "name": "stdout",
     "output_type": "stream",
     "text": [
      "False\n",
      "True\n",
      "False\n",
      "False\n",
      "True\n",
      "False\n",
      "False\n",
      "True\n",
      "False\n"
     ]
    }
   ],
   "source": [
    "print(a>b)\n",
    "print(a==b)\n",
    "print(a<b)\n",
    "print('A'>'B')\n",
    "print('A'<'B')\n",
    "print('A'=='B')\n",
    "print('ABC'>'abc')\n",
    "print('ABC'<'abc')\n",
    "print('ABC'=='abc')"
   ]
  },
  {
   "cell_type": "code",
   "execution_count": 21,
   "id": "c9773fa6",
   "metadata": {},
   "outputs": [
    {
     "name": "stdout",
     "output_type": "stream",
     "text": [
      "2183034571200\n",
      "2183034562944\n",
      "False\n",
      "False\n",
      "True\n"
     ]
    }
   ],
   "source": [
    "a = (2,9,4)\n",
    "b = (31,1)\n",
    "c = (2,9,4)\n",
    "\n",
    "print(id(a))\n",
    "print(id(c))\n",
    "print(a is c)\n",
    "print(b is c)\n",
    "print(a is not c)"
   ]
  },
  {
   "cell_type": "code",
   "execution_count": 20,
   "id": "6a859dda",
   "metadata": {},
   "outputs": [
    {
     "name": "stdout",
     "output_type": "stream",
     "text": [
      "True\n",
      "False\n",
      "False\n"
     ]
    }
   ],
   "source": [
    "a = 21\n",
    "b = 9\n",
    "c = 21\n",
    "print(a is c)\n",
    "print(a is b)\n",
    "print(a is not c)"
   ]
  },
  {
   "cell_type": "code",
   "execution_count": null,
   "id": "9b08228c",
   "metadata": {},
   "outputs": [],
   "source": []
  }
 ],
 "metadata": {
  "kernelspec": {
   "display_name": "Python 3 (ipykernel)",
   "language": "python",
   "name": "python3"
  },
  "language_info": {
   "codemirror_mode": {
    "name": "ipython",
    "version": 3
   },
   "file_extension": ".py",
   "mimetype": "text/x-python",
   "name": "python",
   "nbconvert_exporter": "python",
   "pygments_lexer": "ipython3",
   "version": "3.9.12"
  }
 },
 "nbformat": 4,
 "nbformat_minor": 5
}
