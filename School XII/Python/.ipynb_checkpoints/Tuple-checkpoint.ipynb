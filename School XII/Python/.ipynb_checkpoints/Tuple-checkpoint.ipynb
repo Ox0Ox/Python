{
 "cells": [
  {
   "cell_type": "code",
   "execution_count": 1,
   "id": "9308891b",
   "metadata": {},
   "outputs": [
    {
     "name": "stdout",
     "output_type": "stream",
     "text": [
      "Enter english marks: 90\n",
      "Enter math marks: 91\n",
      "Enter science marks: 98\n",
      "(90, 91, 98)\n",
      "Enter english marks: 98\n",
      "Enter math marks: 98\n",
      "Enter science marks: 90\n",
      "(98, 98, 90)\n",
      "Enter english marks: 90\n",
      "Enter math marks: 98\n",
      "Enter science marks: 97\n",
      "(90, 98, 97)\n",
      "Enter english marks: 96\n",
      "Enter math marks: 94\n",
      "Enter science marks: 99\n",
      "(96, 94, 99)\n",
      "Enter english marks: 100\n",
      "Enter math marks: 100\n",
      "Enter science marks: 100\n",
      "(100, 100, 100)\n",
      "((90, 91, 98), (98, 98, 90), (90, 98, 97), (96, 94, 99), (100, 100, 100))\n"
     ]
    }
   ],
   "source": [
    "#Create a nested tuple\n",
    "t = ()\n",
    "for i in range(5):\n",
    "    e = eval(input('Enter english marks: '))\n",
    "    m = eval(input('Enter math marks: '))\n",
    "    s = eval(input('Enter science marks: '))\n",
    "    d = (e,m,s)\n",
    "    print(d)\n",
    "    t = t + (d,)\n",
    "    print()\n",
    "print(t)\n"
   ]
  },
  {
   "cell_type": "code",
   "execution_count": 11,
   "id": "c32990ef",
   "metadata": {},
   "outputs": [
    {
     "name": "stdout",
     "output_type": "stream",
     "text": [
      "<class 'list'>\n",
      "<class 'tuple'>\n",
      "[[[[[[[[((90, 91, 98), (98, 98, 90), (90, 98, 97), (96, 94, 99), (100, 100, 100))]]]]]]]]\n"
     ]
    },
    {
     "data": {
      "text/plain": [
       "list"
      ]
     },
     "execution_count": 11,
     "metadata": {},
     "output_type": "execute_result"
    }
   ],
   "source": [
    "print(type(t))\n",
    "print(type(d))\n",
    "t = [t]\n",
    "print(t)\n",
    "t = (t)\n",
    "type(t)"
   ]
  },
  {
   "cell_type": "code",
   "execution_count": 13,
   "id": "83923866",
   "metadata": {},
   "outputs": [
    {
     "name": "stdout",
     "output_type": "stream",
     "text": [
      "(99.5, 100, 99)\n",
      "\n",
      "(99.5, 100, 99)\n",
      "\n",
      "(99.5, 100, 99)\n",
      "\n",
      "(99.5, 100, 99)\n",
      "\n",
      "(99.5, 100, 99)\n",
      "\n",
      "((99.5, 100, 99), (99.5, 100, 99), (99.5, 100, 99), (99.5, 100, 99), (99.5, 100, 99))\n",
      "<class 'tuple'>\n",
      "<class 'tuple'>\n",
      "[((99.5, 100, 99), (99.5, 100, 99), (99.5, 100, 99), (99.5, 100, 99), (99.5, 100, 99))]\n",
      "[((99.5, 100, 99), (99.5, 100, 99), (99.5, 100, 99), (99.5, 100, 99), (99.5, 100, 99))]\n"
     ]
    }
   ],
   "source": [
    "t = ()\n",
    "for i in range(5):\n",
    "    e = 99.5\n",
    "    m = 100\n",
    "    s = 99\n",
    "    d = (e,m,s)\n",
    "    print(d)\n",
    "    t = t + (d,)\n",
    "    print()\n",
    "print(t)\n",
    "\n",
    "print(type(t))\n",
    "print(type(d))\n",
    "t = [t]\n",
    "print(t)\n",
    "t = (t)\n",
    "print(t)"
   ]
  },
  {
   "cell_type": "code",
   "execution_count": 26,
   "id": "b986a0e2",
   "metadata": {},
   "outputs": [
    {
     "name": "stdout",
     "output_type": "stream",
     "text": [
      "(1, 4, 9, 16, 25, 36, 49, 64, 81, 100, 121, 144, 169, 196, 225, 256, 289, 324, 361, 400, 441, 484, 529, 576, 625, 676, 729, 784, 841, 900, 961, 1024, 1089, 1156, 1225, 1296, 1369, 1444, 1521, 1600, 1681, 1764, 1849, 1936, 2025, 2116, 2209, 2304, 2401, 2500)\n"
     ]
    }
   ],
   "source": [
    "#create a tuple containing the squares of the integers 1-50\n",
    "tu = ()\n",
    "for i in range(1,51):\n",
    "    n = (i**2)\n",
    "    tu = tu+(n,)\n",
    "print(tu)"
   ]
  },
  {
   "cell_type": "code",
   "execution_count": null,
   "id": "924b1d21",
   "metadata": {},
   "outputs": [],
   "source": []
  }
 ],
 "metadata": {
  "kernelspec": {
   "display_name": "Python 3 (ipykernel)",
   "language": "python",
   "name": "python3"
  },
  "language_info": {
   "codemirror_mode": {
    "name": "ipython",
    "version": 3
   },
   "file_extension": ".py",
   "mimetype": "text/x-python",
   "name": "python",
   "nbconvert_exporter": "python",
   "pygments_lexer": "ipython3",
   "version": "3.9.12"
  }
 },
 "nbformat": 4,
 "nbformat_minor": 5
}
