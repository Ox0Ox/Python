{
 "cells": [
  {
   "cell_type": "code",
   "execution_count": 5,
   "id": "8883d603",
   "metadata": {},
   "outputs": [
    {
     "name": "stdout",
     "output_type": "stream",
     "text": [
      "File Handling\n",
      "File Handling\n"
     ]
    }
   ],
   "source": [
    "f = open('File.txt','r')\n",
    "print(f.read())"
   ]
  },
  {
   "cell_type": "code",
   "execution_count": 29,
   "id": "bf813148",
   "metadata": {},
   "outputs": [
    {
     "name": "stdout",
     "output_type": "stream",
     "text": [
      "#WAP to find whether two strings contain equal number of characters or not.\n",
      "\n",
      "______________________________________________________________________________________________________________________________________________________________\n",
      "\n",
      "#WAP to create a tuple with the cost of products that you have purchased. \n",
      "\n",
      "#Now find the max and min amount you spent. Also, calculate the total money spent by you on the purchase.\n",
      "\n",
      "n=int(input(\"Enter the no. of products:\"))\n",
      "\n",
      "for i in range(n):\n",
      "\n",
      "['    t1=eval(input(\"Enter the cost of the product:\"))\\n', '_________________________________________________________________________________________________________________________________________________________________\\n', '#Store your marks in various tests out of 10, store your marks in a nested tuple. For Example:\\n', '#((9,7,8,8),(8,5,9,7),(9.5,10,8,9))\\n', '#Now calculate the average of your marks scored in each test.\\n', 't=()\\n', 'name=str(input(\"Enter your name:\"))\\n', 'rno=int(input(\"Enter your Roll no.:\"))\\n', 'n=int(input(\"Enter your no. of tests:\"))\\n', 'tup1=eval(input(\"Enter the marks chapter by chapter:\"))\\n', 'tup2=eval(input(\"Enter the marks chapter by chapter:\"))\\n', 'tup3=eval(input(\"Enter the marks chapter by chapter:\"))\\n', 't=(tup1,tup2,tup3)\\n', 'print(t)\\n', '_______________________________________________________________________________________________________________________________________________________________\\n', '#Create a number guessing game using tuple and built-in functions. Input a tuple and the number to be searched. If the number \\n', '#is present in the tuple, print \"yes!you win\" otherwise print (\"Try again\")\\n', 'print(\"Welcome to Guessing game !!\")\\n', 'tup=eval(input(\"Enter a tuple:\"))\\n', 'n=int(input(\"Enter the number which you are guessing:\"))\\n', 'if n in tup:\\n', '    print(\"Yes ! You win the game\")\\n', 'else:\\n', '    print(\"Try again!\")\\n', '______________________________________________________________________________________________________________________________________________________________\\n', \"#Q12 write a program to create a dictionary to sotre company details like its name and adress. The company's name is treated as\\n\", '#key and adress as value. The program should ask the user to enter details according to user choice and display the adress\\n', '#of the company with its name.\\n', 'd={}\\n', 'n=int(input(\"Enter the no. of companies:\"))\\n', 'for i in range(n):\\n', '    name=str(input(\"Enter the company name:\"))\\n', '    addr=str(input(\"Enter the address of the company:\"))\\n', '    d[name]=addr\\n', 'print(d)\\n', 'n1=str(input(\"Enter the company name to search:\"))\\n', 'if n1 in d:\\n', '    print(\"Found\",n1)\\n', 'else:\\n', '    print(\"Not found\")\\n', '______________________________________________________________________________________________________________________________________________________________\\n', '#Q13 Write a program to print the following pattern.\\n', '*\\n', '**\\n', '***\\n', '****\\n', '*****\\n', '______________________________________________________________________________________________________________________________________________________________\\n', '#Q14 Write a program to print the following pattern.\\n', '______________________________________________________________________________________________________________________________________________________________\\n', '#Q15 Write a porgram to create 2 tuples where you store decimal numbers in one tuple and integer values in another tuple and \\n', '#and the output should be an another tuple which is the combination of the 2 tuples.\\n', 't1=eval(input(\"Enter a tuple for decimal number:\"))\\n', 't2=eval(input(\"Enter a tuple for integer number:\"))\\n', 't3=t1+t2\\n', 'print(t3)\\n', '______________________________________________________________________________________________________________________________________________________________\\n', '#Q16 Take your marks in all the subjects in various tests out of 10. store them as a nested tuple. For example:\\n', '#My marks(name of the tuple, its a nested tuple). First tuple contains 4 marks and it [9,7,8,8]. Second tuple contains 4 marks\\n', '#[8.5,9,8,7] and third tuple contains 4 marks [9.5,10,8,9]\\n', '#and the subjects are Science, English and Computer science.\\n', 't=()\\n', 'for i in range(1):\\n', '    eng=eval(input(\"Enter your english Marks:\"))\\n', '    sci=str(input(\"Enter your Science Marks:\"))\\n', '    csi=str(input(\"Enter your Computer Science Marks:\"))\\n', '    t1=((eng),(sci),(csi))\\n', '    print(t1)\\n', 'print(t)\\n', '______________________________________________________________________________________________________________________________________________________________\\n', '#Q17 Suppose you have a list of words, and you want to sort them according to the number of their characters in descending order.\\n', '#Write a python program to do the same.\\n', 'w1=str(input(\"Enter the word:\"))\\n', 'w2=str(input(\"Enter the word:\"))\\n', 'if len(w2)>len(w1):\\n', \"    print('sorted')\\n\", \"    print(w2,'>',w1)\\n\", 'elif len(w1)>len(w2):\\n', \"    print('sorted')\\n\", \"    print(w1,'>',w2)\\n\", 'else:\\n', '    print(\"Not sorted\")\\n', '______________________________________________________________________________________________________________________________________________________________\\n', \"#Q18Write a program to print a string list in reverse order. For Example: list 'days' it contains\\n\", '# l=(sunday, monday, tuesday, wednesday, thursday, friday, saturday) and reverse the elements of the list.\\n', '______________________________________________________________________________________________________________________________________________________________\\n', '#Q19Write a program that takes any message as input, and prints it without vowel characters.\\n', '#Input : The apple is red in color.\\n', '#Output: Th ppl s rd n clr\\n', 'm=input(\"Please give a message:\")\\n', 'result=m.pop(\"a,e,i,o,u\")\\n', 'print(result)\\n', '______________________________________________________________________________________________________________________________________________________________\\n', '#Q20replace (_) with (-).\\n', 'lst=str(input(\"Enter a message:\"))\\n', 'result=lst.replace(\" \",\"-\")\\n', 'print(result)\\n', '______________________________________________________________________________________________________________________________________________________________\\n', '#Q21 WAP to create a dictionary called FRIENDS by initiating six friends roll number as key and name as value and print the\\n', \"#dictionary's value only.\\n\", 'rno=[]\\n', 'name=[]\\n', 'for a in range(6):\\n', '    r=input(\"Enter roll no.:\")\\n', '    n=str(input(\"Enter your name:\"))\\n', '    rno.append(r)\\n', '    name.append(n)\\n', 'd={rno[0]:name[0],rno[1]:name[1],rno[2]:name[2],rno[3]:name[3],rno[4]:name[4],rno[5]:name[5]}\\n', 'print(\"Created dictionary\")\\n', 'print(d)\\n', '______________________________________________________________________________________________________________________________________________________________\\n', '#Q22 In a school, there are 45 students in class 11. Each student has rollno, name, eng, phy, chem, math and comp marks. WAP to \\n', '#calculate and print the total marks and percentage of marks for all students.\\n', 'n=int(input(\"Enter the no. of students:\"))\\n', 'for i in range(n):\\n', '    rollno=int(input(\"Enter your Roll no.\"))\\n', '    name=str(input(\"Enter your name:\"))\\n', '    eng=int(input(\"Enter your English Marks:\"))\\n', '    phy=int(input(\"Enter your Physics Marks:\"))\\n', '    chem=int(input(\"Enter your Chemistry Marks:\"))\\n', '    math=int(input(\"Enter your Maths Marks:\"))\\n', '    comp=int(input(\"Enter your Computer Marks:\"))\\n', '    l=[rollno,name,eng,phy,chem,math,comp]\\n', '    print(\"Rollno, Name, Eng, Phy, Chem, Math, Comp\")\\n', '    print(l)\\n', '    t=eng+phy+chem+math+comp\\n', '    print(\"Total marks\",t,\"/185\")\\n', '    p=(eng+phy+chem+math+comp)/185*100\\n', '    print(\"Percentage\",p)\\n', '______________________________________________________________________________________________________________________________________________________________\\n', '#Q23 WAP to merge two sorted lists and also return the sorted list. For example- the two lists are:\\n', '#A=[11,10,12,45,56,30]\\n', '#B=[34,20,90,67,89] then the output will be:\\n', '#[10,11,12,13,20,34,45,56,67,89,90]\\n', 'A=[]\\n', 'n=int(input(\"Enter the no. of elements:\"))\\n', 'for i in range(n):\\n', '    a=eval(input(\"Enter the elements for the list:\"))\\n', '    A.append(a)\\n', 'print(A)\\n', 'B=[]\\n', 'n=int(input(\"Enter the no. of elements:\"))\\n', 'for i in range(n):\\n', '    b=int(input(\"Enter the elements for the list:\"))\\n', '    B.append(b)\\n', 'print(B)\\n', 'C=A+B\\n', 'print(\"Combined List:\",C)\\n', 'C.sort()\\n', 'print(C)\\n', '______________________________________________________________________________________________________________________________________________________________\\n', '#Q24 WAP to remove all duplicate values from a given list.\\n', '#List1=[12,21,34,34,56,11,32,11,32,10,10,0]\\n', 'a=[]\\n', 'n=int(input(\"Enter the no. of elements:\"))\\n', 'for i in range(0,n,1):\\n', '    t=int(input(\"Enter the elements for the list:\"))\\n', '    a.append(t)\\n', 'print(a)\\n', 'for i in range(0,t,1):\\n', '    if(a.count(t)>1):\\n', '        a.pop(t)\\n', '    print(a)\\n', '______________________________________________________________________________________________________________________________________________________________\\n', '\\n']\n",
      "['    t1=eval(input(\"Enter the cost of the product:\"))\\n', 'ok', '#Store your marks in various tests out of 10, store your marks in a nested tuple. For Example:\\n', '#((9,7,8,8),(8,5,9,7),(9.5,10,8,9))\\n', '#Now calculate the average of your marks scored in each test.\\n', 't=()\\n', 'name=str(input(\"Enter your name:\"))\\n', 'rno=int(input(\"Enter your Roll no.:\"))\\n', 'n=int(input(\"Enter your no. of tests:\"))\\n', 'tup1=eval(input(\"Enter the marks chapter by chapter:\"))\\n', 'tup2=eval(input(\"Enter the marks chapter by chapter:\"))\\n', 'tup3=eval(input(\"Enter the marks chapter by chapter:\"))\\n', 't=(tup1,tup2,tup3)\\n', 'print(t)\\n', '_______________________________________________________________________________________________________________________________________________________________\\n', '#Create a number guessing game using tuple and built-in functions. Input a tuple and the number to be searched. If the number \\n', '#is present in the tuple, print \"yes!you win\" otherwise print (\"Try again\")\\n', 'print(\"Welcome to Guessing game !!\")\\n', 'tup=eval(input(\"Enter a tuple:\"))\\n', 'n=int(input(\"Enter the number which you are guessing:\"))\\n', 'if n in tup:\\n', '    print(\"Yes ! You win the game\")\\n', 'else:\\n', '    print(\"Try again!\")\\n', '______________________________________________________________________________________________________________________________________________________________\\n', \"#Q12 write a program to create a dictionary to sotre company details like its name and adress. The company's name is treated as\\n\", '#key and adress as value. The program should ask the user to enter details according to user choice and display the adress\\n', '#of the company with its name.\\n', 'd={}\\n', 'n=int(input(\"Enter the no. of companies:\"))\\n', 'for i in range(n):\\n', '    name=str(input(\"Enter the company name:\"))\\n', '    addr=str(input(\"Enter the address of the company:\"))\\n', '    d[name]=addr\\n', 'print(d)\\n', 'n1=str(input(\"Enter the company name to search:\"))\\n', 'if n1 in d:\\n', '    print(\"Found\",n1)\\n', 'else:\\n', '    print(\"Not found\")\\n', '______________________________________________________________________________________________________________________________________________________________\\n', '#Q13 Write a program to print the following pattern.\\n', '*\\n', '**\\n', '***\\n', '****\\n', '*****\\n', '______________________________________________________________________________________________________________________________________________________________\\n', '#Q14 Write a program to print the following pattern.\\n', '______________________________________________________________________________________________________________________________________________________________\\n', '#Q15 Write a porgram to create 2 tuples where you store decimal numbers in one tuple and integer values in another tuple and \\n', '#and the output should be an another tuple which is the combination of the 2 tuples.\\n', 't1=eval(input(\"Enter a tuple for decimal number:\"))\\n', 't2=eval(input(\"Enter a tuple for integer number:\"))\\n', 't3=t1+t2\\n', 'print(t3)\\n', '______________________________________________________________________________________________________________________________________________________________\\n', '#Q16 Take your marks in all the subjects in various tests out of 10. store them as a nested tuple. For example:\\n', '#My marks(name of the tuple, its a nested tuple). First tuple contains 4 marks and it [9,7,8,8]. Second tuple contains 4 marks\\n', '#[8.5,9,8,7] and third tuple contains 4 marks [9.5,10,8,9]\\n', '#and the subjects are Science, English and Computer science.\\n', 't=()\\n', 'for i in range(1):\\n', '    eng=eval(input(\"Enter your english Marks:\"))\\n', '    sci=str(input(\"Enter your Science Marks:\"))\\n', '    csi=str(input(\"Enter your Computer Science Marks:\"))\\n', '    t1=((eng),(sci),(csi))\\n', '    print(t1)\\n', 'print(t)\\n', '______________________________________________________________________________________________________________________________________________________________\\n', '#Q17 Suppose you have a list of words, and you want to sort them according to the number of their characters in descending order.\\n', '#Write a python program to do the same.\\n', 'w1=str(input(\"Enter the word:\"))\\n', 'w2=str(input(\"Enter the word:\"))\\n', 'if len(w2)>len(w1):\\n', \"    print('sorted')\\n\", \"    print(w2,'>',w1)\\n\", 'elif len(w1)>len(w2):\\n', \"    print('sorted')\\n\", \"    print(w1,'>',w2)\\n\", 'else:\\n', '    print(\"Not sorted\")\\n', '______________________________________________________________________________________________________________________________________________________________\\n', \"#Q18Write a program to print a string list in reverse order. For Example: list 'days' it contains\\n\", '# l=(sunday, monday, tuesday, wednesday, thursday, friday, saturday) and reverse the elements of the list.\\n', '______________________________________________________________________________________________________________________________________________________________\\n', '#Q19Write a program that takes any message as input, and prints it without vowel characters.\\n', '#Input : The apple is red in color.\\n', '#Output: Th ppl s rd n clr\\n', 'm=input(\"Please give a message:\")\\n', 'result=m.pop(\"a,e,i,o,u\")\\n', 'print(result)\\n', '______________________________________________________________________________________________________________________________________________________________\\n', '#Q20replace (_) with (-).\\n', 'lst=str(input(\"Enter a message:\"))\\n', 'result=lst.replace(\" \",\"-\")\\n', 'print(result)\\n', '______________________________________________________________________________________________________________________________________________________________\\n', '#Q21 WAP to create a dictionary called FRIENDS by initiating six friends roll number as key and name as value and print the\\n', \"#dictionary's value only.\\n\", 'rno=[]\\n', 'name=[]\\n', 'for a in range(6):\\n', '    r=input(\"Enter roll no.:\")\\n', '    n=str(input(\"Enter your name:\"))\\n', '    rno.append(r)\\n', '    name.append(n)\\n', 'd={rno[0]:name[0],rno[1]:name[1],rno[2]:name[2],rno[3]:name[3],rno[4]:name[4],rno[5]:name[5]}\\n', 'print(\"Created dictionary\")\\n', 'print(d)\\n', '______________________________________________________________________________________________________________________________________________________________\\n', '#Q22 In a school, there are 45 students in class 11. Each student has rollno, name, eng, phy, chem, math and comp marks. WAP to \\n', '#calculate and print the total marks and percentage of marks for all students.\\n', 'n=int(input(\"Enter the no. of students:\"))\\n', 'for i in range(n):\\n', '    rollno=int(input(\"Enter your Roll no.\"))\\n', '    name=str(input(\"Enter your name:\"))\\n', '    eng=int(input(\"Enter your English Marks:\"))\\n', '    phy=int(input(\"Enter your Physics Marks:\"))\\n', '    chem=int(input(\"Enter your Chemistry Marks:\"))\\n', '    math=int(input(\"Enter your Maths Marks:\"))\\n', '    comp=int(input(\"Enter your Computer Marks:\"))\\n', '    l=[rollno,name,eng,phy,chem,math,comp]\\n', '    print(\"Rollno, Name, Eng, Phy, Chem, Math, Comp\")\\n', '    print(l)\\n', '    t=eng+phy+chem+math+comp\\n', '    print(\"Total marks\",t,\"/185\")\\n', '    p=(eng+phy+chem+math+comp)/185*100\\n', '    print(\"Percentage\",p)\\n', '______________________________________________________________________________________________________________________________________________________________\\n', '#Q23 WAP to merge two sorted lists and also return the sorted list. For example- the two lists are:\\n', '#A=[11,10,12,45,56,30]\\n', '#B=[34,20,90,67,89] then the output will be:\\n', '#[10,11,12,13,20,34,45,56,67,89,90]\\n', 'A=[]\\n', 'n=int(input(\"Enter the no. of elements:\"))\\n', 'for i in range(n):\\n', '    a=eval(input(\"Enter the elements for the list:\"))\\n', '    A.append(a)\\n', 'print(A)\\n', 'B=[]\\n', 'n=int(input(\"Enter the no. of elements:\"))\\n', 'for i in range(n):\\n', '    b=int(input(\"Enter the elements for the list:\"))\\n', '    B.append(b)\\n', 'print(B)\\n', 'C=A+B\\n', 'print(\"Combined List:\",C)\\n', 'C.sort()\\n', 'print(C)\\n', '______________________________________________________________________________________________________________________________________________________________\\n', '#Q24 WAP to remove all duplicate values from a given list.\\n', '#List1=[12,21,34,34,56,11,32,11,32,10,10,0]\\n', 'a=[]\\n', 'n=int(input(\"Enter the no. of elements:\"))\\n', 'for i in range(0,n,1):\\n', '    t=int(input(\"Enter the elements for the list:\"))\\n', '    a.append(t)\\n', 'print(a)\\n', 'for i in range(0,t,1):\\n', '    if(a.count(t)>1):\\n', '        a.pop(t)\\n', '    print(a)\\n', '______________________________________________________________________________________________________________________________________________________________\\n', '\\n']\n"
     ]
    }
   ],
   "source": [
    "#f = open(r\"C:\\Users\\dps\\Documents\\Swarnim Saurabh XI-A\\Practical File Questions.txt\",'r')\n",
    "f = open(r'C:\\Users\\dps\\Documents\\Swarnim Saurabh XI-A\\Practical File Questions.txt','r')\n",
    "#print(f.read())\n",
    "x = f.readline()\n",
    "print(x)\n",
    "x = f.readline()\n",
    "print(x)\n",
    "x = f.readline()\n",
    "print(x)\n",
    "x = f.readline()\n",
    "print(x)\n",
    "x = f.readline()\n",
    "print(x)\n",
    "x = f.readline()\n",
    "print(x)\n",
    "x = f.readlines()\n",
    "\n",
    "print(x)\n",
    "x[1] = 'ok'\n",
    "print(x)\n"
   ]
  },
  {
   "cell_type": "code",
   "execution_count": 17,
   "id": "86b2fceb",
   "metadata": {},
   "outputs": [
    {
     "name": "stdout",
     "output_type": "stream",
     "text": [
      "\n"
     ]
    }
   ],
   "source": []
  },
  {
   "cell_type": "code",
   "execution_count": 7,
   "id": "6e7d48c8",
   "metadata": {},
   "outputs": [],
   "source": [
    "#f.close()"
   ]
  },
  {
   "cell_type": "code",
   "execution_count": 6,
   "id": "ca362bbd",
   "metadata": {},
   "outputs": [
    {
     "name": "stdout",
     "output_type": "stream",
     "text": [
      "\n"
     ]
    }
   ],
   "source": [
    "print(f.read())"
   ]
  },
  {
   "cell_type": "code",
   "execution_count": 3,
   "id": "80ed5e4b",
   "metadata": {},
   "outputs": [
    {
     "name": "stdout",
     "output_type": "stream",
     "text": [
      "my name is harsh trying to explore\n"
     ]
    }
   ],
   "source": [
    "f = open('File.txt','w+')\n",
    "n = 'my name is harsh'\n",
    "f.write(n)\n",
    "f.write(' trying to explore')\n",
    "\n",
    "f.seek(0)\n",
    "print(f.read())\n"
   ]
  },
  {
   "cell_type": "code",
   "execution_count": 6,
   "id": "56a11c88",
   "metadata": {},
   "outputs": [
    {
     "name": "stdout",
     "output_type": "stream",
     "text": [
      "Count: 3\n",
      "Names: My name is harsh\n",
      "Names: and your\n",
      "Names: name is\n",
      "['My name is harsh', 'and your', 'name is']\n",
      "\n"
     ]
    }
   ],
   "source": [
    "f = open('File.txt','w')\n",
    "l = []\n",
    "n1 = int(input('Count: '))\n",
    "for i in range(5):\n",
    "    n2 = input('Address: ')\n",
    "    n3 = input('Email ID: ')\n",
    "    n4 = int(input('Phys Marks: '))\n",
    "    n5 = int(input('Chem Marks: '))\n",
    "    n6 = int(input('Math Marks: '))\n",
    "    l.append(n2)\n",
    "l = str(l)\n",
    "f.writelines(l+'\\n')\n",
    "f = open('File.txt','r')\n",
    "print(f.read())\n",
    "f.close()"
   ]
  },
  {
   "cell_type": "code",
   "execution_count": 1,
   "id": "8fc69bc1",
   "metadata": {},
   "outputs": [],
   "source": [
    "#write a program to enter marks of three subjects, total, address, email id, of five students. \n",
    "#Store it in a file data.txt and read all the value line by line print total no. of records"
   ]
  },
  {
   "cell_type": "code",
   "execution_count": 5,
   "id": "c5b0eae1",
   "metadata": {},
   "outputs": [
    {
     "name": "stdout",
     "output_type": "stream",
     "text": [
      "Hello my name is XYZ.\n",
      "And I am ZYX.\n"
     ]
    }
   ],
   "source": [
    "f = open('data.txt')\n",
    "f1 = open('data1.txt')\n",
    "f2 = open('mynew.txt', 'w+')\n",
    "d1 = f.read()\n",
    "d2 = f1.read()\n",
    "f2.write(d1+'\\n')\n",
    "f2.write(d2)\n",
    "f2.seek(0)\n",
    "print(f2.read())\n",
    "f2.close()"
   ]
  },
  {
   "cell_type": "code",
   "execution_count": 2,
   "id": "d38362c7",
   "metadata": {},
   "outputs": [
    {
     "name": "stdout",
     "output_type": "stream",
     "text": [
      "The number of capital letters found in the string is:- 7\n"
     ]
    }
   ],
   "source": [
    "\n",
    "f = open('data.txt','r')\n",
    "d = f.read()\n",
    "count=0\n",
    "for i in d:\n",
    "    if i.isupper() == True:\n",
    "        count=count+1\n",
    "print(\"The number of capital letters found in the string is:-\",count)"
   ]
  },
  {
   "cell_type": "code",
   "execution_count": 7,
   "id": "08171b2a",
   "metadata": {},
   "outputs": [],
   "source": [
    "#write a program to remove a word from a file\n",
    "f = open(\"data.txt\",'r')\n",
    "lines = f.readlines()\n",
    "f.close()\n",
    "\n",
    "e = \"Hello\"\n",
    "\n",
    "newLines = []\n",
    "for i in lines:\n",
    "    newLines.append(' '.join([word for word in line.split() if word != e]))\n",
    "\n",
    "f = open(\"data.txt\", 'w')\n",
    "for i in lines:\n",
    "    f.write(\"{}\\n\".format(line))\n",
    "f.close()"
   ]
  },
  {
   "cell_type": "code",
   "execution_count": 9,
   "id": "4d45bc5e",
   "metadata": {},
   "outputs": [
    {
     "name": "stdout",
     "output_type": "stream",
     "text": [
      "<built-in method read of _io.TextIOWrapper object at 0x0000029A16D155F0>\n"
     ]
    }
   ],
   "source": [
    "f1 = open('data.txt', 'w+')\n",
    "with open ('data1.txt', 'r') as f:\n",
    "    data = f.readlines()\n",
    "    x = data.pop(2)\n",
    "    f1.write(x)\n",
    "    f1.flush()\n",
    "    f1.seek(0)\n",
    "    print(f1.read)\n",
    "f1.close()"
   ]
  },
  {
   "cell_type": "code",
   "execution_count": 10,
   "id": "163b2b43",
   "metadata": {},
   "outputs": [],
   "source": [
    "f = open('data.txt', 'w+')\n",
    "lines = f.readlines()\n"
   ]
  },
  {
   "cell_type": "code",
   "execution_count": 5,
   "id": "ab493895",
   "metadata": {},
   "outputs": [
    {
     "name": "stdout",
     "output_type": "stream",
     "text": [
      "Enter employee name: Hari\n",
      "Enter employee number: 1\n",
      "Enter Department: Lab\n",
      "Enter salary: 60000\n",
      "\n",
      "Enter employee name: Farhan\n",
      "Enter employee number: 2\n",
      "Enter Department: Statistics\n",
      "Enter salary: 75000\n",
      "\n"
     ]
    }
   ],
   "source": [
    "import pickle \n",
    "f = open('binary_file.dat','wb')\n",
    "city = []\n",
    "for i in range(2):\n",
    "    empln = input('Enter employee name: ')\n",
    "    emplno = int(input('Enter employee number: '))\n",
    "    dept = input('Enter Department: ')\n",
    "    sal = int(input('Enter salary: '))\n",
    "    print('')\n",
    "    lst = [empln, emplno, dept, sal]\n",
    "    city.append(lst)\n",
    "pickle.dump(city,f)\n",
    "f.close()"
   ]
  },
  {
   "cell_type": "code",
   "execution_count": 6,
   "id": "4c12a3c0",
   "metadata": {},
   "outputs": [
    {
     "name": "stdout",
     "output_type": "stream",
     "text": [
      "Contenet in the binary file is: \n",
      "[['Hari', 1, 'Lab', 60000], ['Farhan', 2, 'Statistics', 75000]]\n"
     ]
    }
   ],
   "source": [
    "import pickle \n",
    "f = open('binary_file.dat','rb')\n",
    "lst = pickle.load(f)\n",
    "print('Contenet in the binary file is: ')\n",
    "print(lst)\n",
    "f.close()"
   ]
  },
  {
   "cell_type": "code",
   "execution_count": 7,
   "id": "cb349317",
   "metadata": {},
   "outputs": [
    {
     "name": "stdout",
     "output_type": "stream",
     "text": [
      "Enter employee name: Hari\n",
      "Enter employee number: 1\n",
      "Enter Department: Lab\n",
      "Enter salary: 60000\n",
      "\n",
      "Enter employee name: Farhan\n",
      "Enter employee number: 2\n",
      "Enter Department: Stats\n",
      "Enter salary: 75000\n",
      "\n"
     ]
    }
   ],
   "source": [
    "import pickle \n",
    "f = open('binary_file.dat','wb')\n",
    "city = []\n",
    "for i in range(2):\n",
    "    empln = input('Enter employee name: ')\n",
    "    emplno = int(input('Enter employee number: '))\n",
    "    dept = input('Enter Department: ')\n",
    "    sal = int(input('Enter salary: '))\n",
    "    print('')\n",
    "    lst = (empln, emplno, dept, sal)\n",
    "    city.append(lst)\n",
    "pickle.dump(city,f)\n",
    "f.close()"
   ]
  },
  {
   "cell_type": "code",
   "execution_count": 9,
   "id": "8dfeaa4e",
   "metadata": {},
   "outputs": [
    {
     "name": "stdout",
     "output_type": "stream",
     "text": [
      "Content in the binary file is: \n",
      "[('Hari', 1, 'Lab', 60000), ('Farhan', 2, 'Stats', 75000)]\n"
     ]
    }
   ],
   "source": [
    "import pickle \n",
    "f = open('binary_file.dat','rb')\n",
    "lst = pickle.load(f)\n",
    "print('Content in the binary file is: ')\n",
    "print(lst)\n",
    "f.close()"
   ]
  },
  {
   "cell_type": "code",
   "execution_count": 3,
   "id": "4b2e53ea",
   "metadata": {},
   "outputs": [
    {
     "name": "stdout",
     "output_type": "stream",
     "text": [
      "Enter Book name: Harry Potter 1\n",
      "Enter Book number: 1\n",
      "Enter Genre: Mystery\n",
      "Enter Price: 550\n",
      "\n",
      "Enter Book name: Blue Lock\n",
      "Enter Book number: 2\n",
      "Enter Genre: Action\n",
      "Enter Price: 600\n",
      "\n",
      "Enter Book name: One Piece\n",
      "Enter Book number: 3\n",
      "Enter Genre: Shounen\n",
      "Enter Price: 600\n",
      "\n",
      "Enter Book name: Naruto\n",
      "Enter Book number: 4\n",
      "Enter Genre: Action\n",
      "Enter Price: 700\n",
      "\n",
      "Enter Book name: Classroom of the elite\n",
      "Enter Book number: 5\n",
      "Enter Genre: Mystery\n",
      "Enter Price: 650\n",
      "\n"
     ]
    }
   ],
   "source": [
    "import pickle \n",
    "f = open('binary_file.dat','wb')\n",
    "city = []\n",
    "for i in range(5):\n",
    "    empln = input('Enter Book name: ')\n",
    "    emplno = int(input('Enter Book number: '))\n",
    "    dept = input('Enter Genre: ')\n",
    "    sal = int(input('Enter Price: '))\n",
    "    print('')\n",
    "    lst = {'Name': empln, 'Number': emplno, 'Genre': dept, 'Price': sal}\n",
    "    city.append(lst)\n",
    "pickle.dump(city,f)\n",
    "f.close()"
   ]
  },
  {
   "cell_type": "code",
   "execution_count": 4,
   "id": "897d6b3a",
   "metadata": {},
   "outputs": [
    {
     "name": "stdout",
     "output_type": "stream",
     "text": [
      "Content in the binary file is: \n",
      "[{'Name': 'Harry Potter 1', 'Number': 1, 'Genre': 'Mystery', 'Price': 550}, {'Name': 'Blue Lock', 'Number': 2, 'Genre': 'Action', 'Price': 600}, {'Name': 'One Piece', 'Number': 3, 'Genre': 'Shounen', 'Price': 600}, {'Name': 'Naruto', 'Number': 4, 'Genre': 'Action', 'Price': 700}, {'Name': 'Classroom of the elite', 'Number': 5, 'Genre': 'Mystery', 'Price': 650}]\n"
     ]
    }
   ],
   "source": [
    "import pickle \n",
    "f = open('binary_file.dat','rb')\n",
    "lst = pickle.load(f)\n",
    "print('Content in the binary file is: ')\n",
    "print(lst)\n",
    "f.close()"
   ]
  },
  {
   "cell_type": "code",
   "execution_count": null,
   "id": "c681c76c",
   "metadata": {},
   "outputs": [],
   "source": [
    "import pickle\n",
    "L=[]\n",
    "def write():\n",
    "    f=open(\"samp1.dat\",\"ab\")\n",
    "    while True:\n",
    "        n=input(\"enter name:\")\n",
    "        r=int(input(\"enter rollno:\"))\n",
    "        c=input(\"enter class:\")\n",
    "        tm=int(input(\"enter total marks:\"))\n",
    "        rec=[n,r,c,tm]\n",
    "        L.append(rec)\n",
    "        pickle.dump(L,f)\n",
    "        print(\"record added:\")   \n",
    "    f.seek(0)\n",
    "    f.close()\n",
    "def read():\n",
    "    try:\n",
    "        f=open(\"samp1.dat\",\"rb\")\n",
    "        while True:\n",
    "            x=pickle.load(f)\n",
    "            print(x)\n",
    "    except Exception:\n",
    "        f.close()                \n",
    "def search():\n",
    "    f=open(\"samp1.dat\",\"rb\")\n",
    "    #f.seek(0)\n",
    "    rollno=int(input(\"enter rollno to search for record:\"))\n",
    "    try:\n",
    "        x=pickle.load(f)\n",
    "        for i in x:\n",
    "            if i[1]==rollno:\n",
    "                print(\"record found:\",i)\n",
    "                break\n",
    "        else:\n",
    "            print(\"Sorry no matching record found:\")\n",
    "    except Exception:\n",
    "        f.close()\n",
    "def update():\n",
    "    print(\"----------------------------------------\")\n",
    "    print(\"Updating records having total marks > 80:\")\n",
    "    found=False\n",
    "    with open(\"samp1.dat\",\"rb+\")as f:\n",
    "        x = list(pickle.load(f))\n",
    "        for i in x:\n",
    "            if i[3]>80:\n",
    "                i[3]+=10\n",
    "                found=True      \n",
    "        f.seek(0)\n",
    "        pickle.dump(x,f)\n",
    "        if found==False:\n",
    "            print(\"No match found:\")\n",
    "        else:\n",
    "            f.seek(0)\n",
    "            x=pickle.load(f)\n",
    "            for i in x:\n",
    "                print(i)\n",
    "def delete():\n",
    "    with open(\"samp1.dat\",\"rb+\") as f:\n",
    "        x = list(pickle.load(f))\n",
    "        n = int(input(\"Enter rollno:\"))\n",
    "        l1 = []\n",
    "        for i in x:\n",
    "            if i[1] == n:\n",
    "                continue\n",
    "            else:\n",
    "                l1.append(i)\n",
    "        f.seek(0)\n",
    "        pickle.dump(l1, f)\n",
    "while True:\n",
    "    print(\"---------------------------------------------\")\n",
    "    print(\"1: To write\")\n",
    "    print(\"2: To Read\")\n",
    "    print(\"3: To search\")\n",
    "    print(\"4: To update\")\n",
    "    print(\"5: To delete\")\n",
    "    print(\"6: To quit\")\n",
    "    ch=int(input(\"Enter your choice:\"))\n",
    "    if ch==1:\n",
    "        write()\n",
    "    elif ch==2:\n",
    "        read()\n",
    "    elif ch==3:\n",
    "        search()\n",
    "    elif ch==4:\n",
    "        update()\n",
    "    elif ch==5:\n",
    "        delete()\n",
    "    elif ch==6:\n",
    "        break\n",
    "    else:\n",
    "        print(\"Wrong choice, Enter choice between 1 to 6:\")"
   ]
  },
  {
   "cell_type": "code",
   "execution_count": null,
   "id": "8ac8a28c",
   "metadata": {},
   "outputs": [],
   "source": [
    "import csv\n",
    "f = open('emp.csv', 'w', newline = '')\n",
    "emp_writer = csv.writer(f)\n",
    "emp_writer.writerow(['EmpName', 'EmpID', 'Dept'])\n",
    "emp_rec = []\n",
    "while True:\n",
    "    print('Enter Employee details: ')\n",
    "    empname = input('EmpName: ')\n",
    "    eid = int(input('EmpID: '))\n",
    "    dept = input('Dept: ')\n",
    "    emp_rec.append([empname, eid, dept])\n",
    "    n = input('Do you wish to continue(Y/N): ')\n",
    "    if n == 'N' or n == 'n':\n",
    "        break\n",
    "emp_writer.writenow(emp_rec)"
   ]
  },
  {
   "cell_type": "code",
   "execution_count": 5,
   "id": "ed7612c7",
   "metadata": {},
   "outputs": [],
   "source": [
    "import csv\n",
    "f = open('emp.csv', 'w', newline = '')\n",
    "w = csv.writer(f)\n",
    "w.writerow(['Name', 'Age', 'Grade'])\n",
    "data = [['Amit', 17, 'B'], ['Ajay', 16, 'A']]\n",
    "w.writerows(data)\n",
    "f.close()"
   ]
  },
  {
   "cell_type": "code",
   "execution_count": 7,
   "id": "2cfd2f44",
   "metadata": {},
   "outputs": [
    {
     "name": "stdout",
     "output_type": "stream",
     "text": [
      "['Name', 'Age', 'Grade']\n",
      "['Amit', '17', 'B']\n",
      "['Ajay', '16', 'A']\n"
     ]
    }
   ],
   "source": [
    "def reading():\n",
    "    import csv\n",
    "    f = open('emp.csv', 'r')\n",
    "    r = csv.reader(f)\n",
    "    for i in r:\n",
    "        print(i)\n",
    "reading()"
   ]
  },
  {
   "cell_type": "code",
   "execution_count": 4,
   "id": "a23233ec",
   "metadata": {},
   "outputs": [],
   "source": [
    "#wap tht reads a text file and creates another file that is identical except that every sequence of consecutive blank space is replaced by a single space\n",
    "f1 = open(\"Q1.txt\",\"r\")\n",
    "f2 = open(\"Q1New.txt\",\"w\")\n",
    "l = f1.readlines()\n",
    "\n",
    "for i in l :\n",
    "    w = i.split()\n",
    "    for j in w :\n",
    "        f2.write( j + \" \")\n",
    "    f2.write(\"\\n\")\n",
    "\n",
    "f1.close()\n",
    "f2.close()"
   ]
  },
  {
   "cell_type": "code",
   "execution_count": 5,
   "id": "fbf28bde",
   "metadata": {},
   "outputs": [
    {
     "name": "stdout",
     "output_type": "stream",
     "text": [
      "Enter Author name: Hari\n",
      "Enter Author ID: 1\n",
      "Enter Number of books published: 10\n",
      "\n",
      "Enter Author name: Lulu\n",
      "Enter Author ID: 2\n",
      "Enter Number of books published: 29\n",
      "\n",
      "Enter Author name: Jack\n",
      "Enter Author ID: 3\n",
      "Enter Number of books published: 15\n",
      "\n",
      "Enter Author name: Ramiah\n",
      "Enter Author ID: 4\n",
      "Enter Number of books published: 4\n",
      "\n",
      "Enter Author name: Pitter\n",
      "Enter Author ID: 5\n",
      "Enter Number of books published: 50\n",
      "\n"
     ]
    }
   ],
   "source": [
    "#create an author file authors.info and enter the values in a dictionary\n",
    "import pickle \n",
    "f = open('authors.info','wb')\n",
    "auth = []\n",
    "for i in range(5):\n",
    "    empln = input('Enter Author name: ')\n",
    "    emplno = int(input('Enter Author ID: '))\n",
    "    sal = int(input('Enter Number of books published: '))\n",
    "    print('')\n",
    "    lst = {'Name': empln, 'Number': emplno, 'Number of Book published': sal}\n",
    "    auth.append(lst)\n",
    "pickle.dump(auth,f)\n",
    "f.close()"
   ]
  },
  {
   "cell_type": "code",
   "execution_count": 6,
   "id": "45a065e4",
   "metadata": {},
   "outputs": [
    {
     "name": "stdout",
     "output_type": "stream",
     "text": [
      "Content in the binary file is: \n",
      "[{'Name': 'Hari', 'Number': 1, 'Number of Book published': 10}, {'Name': 'Lulu', 'Number': 2, 'Number of Book published': 29}, {'Name': 'Jack', 'Number': 3, 'Number of Book published': 15}, {'Name': 'Ramiah', 'Number': 4, 'Number of Book published': 4}, {'Name': 'Pitter', 'Number': 5, 'Number of Book published': 50}]\n"
     ]
    }
   ],
   "source": [
    "import pickle \n",
    "f = open('authors.info','rb')\n",
    "lst = pickle.load(f)\n",
    "print('Content in the binary file is: ')\n",
    "print(lst)\n",
    "f.close()"
   ]
  },
  {
   "cell_type": "code",
   "execution_count": 13,
   "id": "65f7c09f",
   "metadata": {},
   "outputs": [
    {
     "name": "stdout",
     "output_type": "stream",
     "text": [
      "Artif\n"
     ]
    }
   ],
   "source": [
    "#read first 5 bytes from a txt file, 'artificial intelligence is interesting', find position of poointer, read next 10 bytes,\n",
    "#push the poointer back to second location\n",
    "f = open('data.txt','r')\n",
    "d = f.read(5)\n",
    "print(d)"
   ]
  },
  {
   "cell_type": "code",
   "execution_count": 14,
   "id": "9ad8155c",
   "metadata": {},
   "outputs": [
    {
     "name": "stdout",
     "output_type": "stream",
     "text": [
      "5\n"
     ]
    }
   ],
   "source": [
    "x = f.tell()\n",
    "print(x)"
   ]
  },
  {
   "cell_type": "code",
   "execution_count": 16,
   "id": "b36bdf2d",
   "metadata": {},
   "outputs": [
    {
     "name": "stdout",
     "output_type": "stream",
     "text": [
      "Total Number of lines: 2\n"
     ]
    }
   ],
   "source": [
    "#waf to count the number of lines in a file\n",
    "def txtlinenumber(x):\n",
    "    x = x + '.txt'\n",
    "    with open(x, 'r') as f:\n",
    "        lines = len(f.readlines())\n",
    "        print('Total Number of lines:', lines)\n",
    "txtlinenumber('Q1')"
   ]
  },
  {
   "cell_type": "code",
   "execution_count": null,
   "id": "960dd862",
   "metadata": {},
   "outputs": [],
   "source": []
  }
 ],
 "metadata": {
  "kernelspec": {
   "display_name": "Python 3 (ipykernel)",
   "language": "python",
   "name": "python3"
  },
  "language_info": {
   "codemirror_mode": {
    "name": "ipython",
    "version": 3
   },
   "file_extension": ".py",
   "mimetype": "text/x-python",
   "name": "python",
   "nbconvert_exporter": "python",
   "pygments_lexer": "ipython3",
   "version": "3.9.12"
  }
 },
 "nbformat": 4,
 "nbformat_minor": 5
}
