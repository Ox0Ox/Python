{
 "cells": [
  {
   "cell_type": "code",
   "execution_count": 8,
   "id": "635c29b6",
   "metadata": {},
   "outputs": [
    {
     "name": "stdout",
     "output_type": "stream",
     "text": [
      "{1: 3, 2: 4, 3: 2, 4: 1, 5: 2, 6: 1}\n",
      "[4, 6, 1, 1, 1, 2, 2, 2, 2, 3, 3, 5, 5]\n"
     ]
    }
   ],
   "source": [
    "L = [1,2,3,2,4,1,5,5,6,3,2,1,2]\n",
    "L.sort()\n",
    "d = {}\n",
    "for i in L:\n",
    "    if i in d:\n",
    "        d[i] = d[i]+1\n",
    "    else:\n",
    "        d[i] = 1\n",
    "print(d)\n",
    "\n",
    "L1 = []\n",
    "for j in d:\n",
    "    if d[j] == 1:\n",
    "        L1.append(j)\n",
    "for x in d:\n",
    "    if d[x] > 1:\n",
    "        y = [x]*d[x]\n",
    "        L1 = L1+y\n",
    "        \n",
    "print(L1)"
   ]
  },
  {
   "cell_type": "code",
   "execution_count": 9,
   "id": "f9ef102e",
   "metadata": {},
   "outputs": [
    {
     "name": "stdout",
     "output_type": "stream",
     "text": [
      "[1, 3, 'add']\n"
     ]
    }
   ],
   "source": [
    "l = [1,2,3,'add']\n",
    "l.remove(2)\n",
    "print(l)"
   ]
  },
  {
   "cell_type": "code",
   "execution_count": null,
   "id": "3f2fa399",
   "metadata": {},
   "outputs": [],
   "source": []
  }
 ],
 "metadata": {
  "kernelspec": {
   "display_name": "Python 3 (ipykernel)",
   "language": "python",
   "name": "python3"
  },
  "language_info": {
   "codemirror_mode": {
    "name": "ipython",
    "version": 3
   },
   "file_extension": ".py",
   "mimetype": "text/x-python",
   "name": "python",
   "nbconvert_exporter": "python",
   "pygments_lexer": "ipython3",
   "version": "3.9.12"
  }
 },
 "nbformat": 4,
 "nbformat_minor": 5
}
